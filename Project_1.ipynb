{
  "nbformat": 4,
  "nbformat_minor": 0,
  "metadata": {
    "colab": {
      "provenance": [],
      "authorship_tag": "ABX9TyN9vvhfljo2f6dgR9odu8/B",
      "include_colab_link": true
    },
    "kernelspec": {
      "name": "python3",
      "display_name": "Python 3"
    },
    "language_info": {
      "name": "python"
    }
  },
  "cells": [
    {
      "cell_type": "markdown",
      "metadata": {
        "id": "view-in-github",
        "colab_type": "text"
      },
      "source": [
        "<a href=\"https://colab.research.google.com/github/padibi4/cap-comp215/blob/main/Project_1.ipynb\" target=\"_parent\"><img src=\"https://colab.research.google.com/assets/colab-badge.svg\" alt=\"Open In Colab\"/></a>"
      ]
    },
    {
      "cell_type": "code",
      "source": [
        "import networkx as nx\n",
        "import random\n",
        "\n",
        "# Define the items for each category\n",
        "shoes_items = {'Male Adult': ['Nike', 'Adidas', 'Puma', 'Browns'],\n",
        "               'Female Adult': ['Nike', 'Adidas', 'Puma', 'Browns'],\n",
        "               'Male Kid': ['FootLocker', 'Sketchers'],\n",
        "               'Female Kid': ['FootLocker', 'Sketchers']}\n",
        "clothing_items = {'Male Adult': ['Lululemon Men', 'OVO', 'Zara Men'],\n",
        "                  'Female Adult': ['Lululemon Women', 'Aritzia', 'Zara Women'],\n",
        "                  'Male Kid': ['OVO', 'Zara Kids'],\n",
        "                  'Female Kid': ['Zara Kids', 'Aritzia']}\n",
        "fragrances_items = {'Male Adult': ['Chanel', 'Dior', 'YSL', 'Gucci'],\n",
        "                    'Female Adult': ['Sephora', 'Chanel', 'Dior', 'YSL', 'Gucci'],\n",
        "                    'Male Kid': ['Bath and Body Works'],\n",
        "                    'Female Kid': ['Bath and Body Works']}\n",
        "\n",
        "# Create a directed graph\n",
        "G = nx.DiGraph()\n",
        "\n",
        "# Add nodes for factors\n",
        "G.add_nodes_from(['Gender', 'Age', 'Category'])\n",
        "G.add_nodes_from(['Male', 'Female'])\n",
        "G.add_nodes_from(['Adult', 'Kid'])\n",
        "\n",
        "# Add nodes for items and edges connecting items to corresponding factors\n",
        "for gender_age, items in shoes_items.items():\n",
        "    for item in items:\n",
        "        G.add_node(item, Gender=gender_age.split()[0], Age=gender_age.split()[1], Category='Shoes')\n",
        "        G.add_edge('Gender', item)\n",
        "        G.add_edge('Age', item)\n",
        "        G.add_edge('Category', item)\n",
        "\n",
        "for gender_age, items in clothing_items.items():\n",
        "    for item in items:\n",
        "        G.add_node(item, Gender=gender_age.split()[0], Age=gender_age.split()[1], Category='Clothing')\n",
        "        G.add_edge('Gender', item)\n",
        "        G.add_edge('Age', item)\n",
        "        G.add_edge('Category', item)\n",
        "\n",
        "for gender_age, items in fragrances_items.items():\n",
        "    for item in items:\n",
        "        G.add_node(item, Gender=gender_age.split()[0], Age=gender_age.split()[1], Category='Fragrances')\n",
        "        G.add_edge('Gender', item)\n",
        "        G.add_edge('Age', item)\n",
        "        G.add_edge('Category', item)\n",
        "\n",
        "# Function to select an item based on preferences\n",
        "def select_item(gender, age, category):\n",
        "    eligible_items = [item for item in G.nodes if G.nodes[item].get('Category') == category and G.nodes[item].get('Gender') == gender and G.nodes[item].get('Age') == age]\n",
        "    if eligible_items:\n",
        "        return random.choice(eligible_items)\n",
        "    else:\n",
        "        return \"No matching items found for the given preferences.\"\n",
        "\n",
        "# Function to generate random preferences\n",
        "def generate_random_preferences(num_samples):\n",
        "    preferences = []\n",
        "    genders = ['Male', 'Female']\n",
        "    ages = ['Adult', 'Kid']\n",
        "    categories = ['Shoes', 'Clothing', 'Fragrances']\n",
        "    for _ in range(num_samples):\n",
        "        gender = random.choice(genders)\n",
        "        age = random.choice(ages)\n",
        "        category = random.choice(categories)\n",
        "        preferences.append((gender, age, category))\n",
        "    return preferences\n",
        "\n",
        "# Example usage\n",
        "num_samples = 5\n",
        "random_preferences = generate_random_preferences(num_samples)\n",
        "for i, (gender, age, category) in enumerate(random_preferences, 1):\n",
        "    selected_item = select_item(gender, age, category)\n",
        "    print(f\"Sample {i}: Gender: {gender}, Age: {age}, Category: {category}, Selected Item: {selected_item}\")\n"
      ],
      "metadata": {
        "colab": {
          "base_uri": "https://localhost:8080/"
        },
        "id": "xPLQFuDrkaX9",
        "outputId": "0f4f9ae3-6939-4ecd-c256-150ba93f2d6b"
      },
      "execution_count": 32,
      "outputs": [
        {
          "output_type": "stream",
          "name": "stdout",
          "text": [
            "Sample 1: Gender: Male, Age: Kid, Category: Clothing, Selected Item: OVO\n",
            "Sample 2: Gender: Female, Age: Adult, Category: Fragrances, Selected Item: YSL\n",
            "Sample 3: Gender: Male, Age: Adult, Category: Clothing, Selected Item: Zara Men\n",
            "Sample 4: Gender: Female, Age: Kid, Category: Fragrances, Selected Item: Bath and Body Works\n",
            "Sample 5: Gender: Male, Age: Adult, Category: Shoes, Selected Item: No matching items found for the given preferences.\n"
          ]
        }
      ]
    },
    {
      "cell_type": "markdown",
      "source": [],
      "metadata": {
        "id": "h5CdsdsRlVZM"
      }
    },
    {
      "cell_type": "code",
      "source": [
        "import networkx as nx\n",
        "import matplotlib.pyplot as plt\n",
        "\n",
        "# Define the items for each category\n",
        "shoes_items = {'Male Adult': ['Nike', 'Adidas', 'Puma', 'Browns'],\n",
        "               'Female Adult': ['Nike', 'Adidas', 'Puma', 'Browns'],\n",
        "               'Male Kid': ['FootLocker', 'Sketchers'],\n",
        "               'Female Kid': ['FootLocker', 'Sketchers']}\n",
        "clothing_items = {'Male Adult': ['Lululemon Men', 'OVO', 'Zara Men'],\n",
        "                  'Female Adult': ['Lululemon Women', 'Aritzia', 'Zara Women'],\n",
        "                  'Male Kid': ['OVO', 'Zara Kids'],\n",
        "                  'Female Kid': ['Zara Kids', 'Aritzia']}\n",
        "fragrances_items = {'Male Adult': ['Chanel', 'Dior', 'YSL', 'Gucci'],\n",
        "                    'Female Adult': ['Sephora', 'Chanel', 'Dior', 'YSL', 'Gucci'],\n",
        "                    'Male Kid': ['Bath and Body Works'],\n",
        "                    'Female Kid': ['Bath and Body Works']}\n",
        "\n",
        "# Create a directed graph\n",
        "G = nx.DiGraph()\n",
        "\n",
        "# Add nodes for factors\n",
        "G.add_nodes_from(['Gender', 'Age'])\n",
        "G.add_nodes_from(['Male', 'Female'])\n",
        "G.add_nodes_from(['Adult', 'Kid'])\n",
        "\n",
        "# Add nodes for items and edges connecting items to corresponding factors\n",
        "for gender_age, items in shoes_items.items():\n",
        "    for item in items:\n",
        "        G.add_node(item, Gender=gender_age.split()[0], Age=gender_age.split()[1], Category='Shoes', subset='Shoes')\n",
        "        G.add_edge('Gender', item)\n",
        "        G.add_edge('Age', item)\n",
        "\n",
        "for gender_age, items in clothing_items.items():\n",
        "    for item in items:\n",
        "        G.add_node(item, Gender=gender_age.split()[0], Age=gender_age.split()[1], Category='Clothing', subset='Clothing')\n",
        "        G.add_edge('Gender', item)\n",
        "        G.add_edge('Age', item)\n",
        "\n",
        "for gender_age, items in fragrances_items.items():\n",
        "    for item in items:\n",
        "        G.add_node(item, Gender=gender_age.split()[0], Age=gender_age.split()[1], Category='Fragrances', subset='Fragrances')\n",
        "        G.add_edge('Gender', item)\n",
        "        G.add_edge('Age', item)\n",
        "\n",
        "# Function to select an item based on preferences\n",
        "def select_item(gender, age, category):\n",
        "    eligible_items = [item for item in G.nodes if G.nodes[item].get('Category') == category and G.nodes[item].get('Gender') == gender and G.nodes[item].get('Age') == age]\n",
        "    if eligible_items:\n",
        "        return random.choice(eligible_items)\n",
        "    else:\n",
        "        return \"No matching items found for the given preferences.\"\n",
        "\n",
        "# Function to generate random preferences\n",
        "def generate_random_preferences(num_samples):\n",
        "    preferences = []\n",
        "    genders = ['Male', 'Female']\n",
        "    ages = ['Adult', 'Kid']\n",
        "    categories = ['Shoes', 'Clothing', 'Fragrances']\n",
        "    for _ in range(num_samples):\n",
        "        gender = random.choice(genders)\n",
        "        age = random.choice(ages)\n",
        "        category = random.choice(categories)\n",
        "        preferences.append((gender, age, category))\n",
        "    return preferences\n",
        "\n",
        "# Example usage\n",
        "num_samples = 5\n",
        "random_preferences = generate_random_preferences(num_samples)\n",
        "for i, (gender, age, category) in enumerate(random_preferences, 1):\n",
        "    selected_item = select_item(gender, age, category)\n",
        "    print(f\"Sample {i}: Gender: {gender}, Age: {age}, Category: {category}, Selected Item: {selected_item}\")\n",
        "\n",
        "# Create the hierarchy tree\n",
        "plt.figure(figsize=(12, 8))\n",
        "# pos = nx.multipartite_layout(G, subset_key='subset')\n",
        "nx.draw(G, pos, with_labels=True, node_size=1500, node_color=\"skyblue\", font_size=10, font_weight=\"bold\", arrows=True)\n",
        "plt.title(\"Hierarchy Tree\")\n",
        "plt.show()\n"
      ],
      "metadata": {
        "colab": {
          "base_uri": "https://localhost:8080/",
          "height": 1000
        },
        "id": "WxPMAqs21Nxd",
        "outputId": "8754643f-fbdf-4d20-b94c-a83732723afe"
      },
      "execution_count": 42,
      "outputs": [
        {
          "output_type": "stream",
          "name": "stdout",
          "text": [
            "Sample 1: Gender: Male, Age: Adult, Category: Clothing, Selected Item: Lululemon Men\n",
            "Sample 2: Gender: Female, Age: Adult, Category: Shoes, Selected Item: Nike\n",
            "Sample 3: Gender: Male, Age: Adult, Category: Fragrances, Selected Item: No matching items found for the given preferences.\n",
            "Sample 4: Gender: Female, Age: Kid, Category: Clothing, Selected Item: Zara Kids\n",
            "Sample 5: Gender: Female, Age: Kid, Category: Clothing, Selected Item: Zara Kids\n"
          ]
        },
        {
          "output_type": "error",
          "ename": "NetworkXError",
          "evalue": "Node 'Nike' has no position.",
          "traceback": [
            "\u001b[0;31m---------------------------------------------------------------------------\u001b[0m",
            "\u001b[0;31mKeyError\u001b[0m                                  Traceback (most recent call last)",
            "\u001b[0;32m/usr/local/lib/python3.10/dist-packages/networkx/drawing/nx_pylab.py\u001b[0m in \u001b[0;36mdraw_networkx_nodes\u001b[0;34m(G, pos, nodelist, node_size, node_color, node_shape, alpha, cmap, vmin, vmax, ax, linewidths, edgecolors, label, margins)\u001b[0m\n\u001b[1;32m    428\u001b[0m     \u001b[0;32mtry\u001b[0m\u001b[0;34m:\u001b[0m\u001b[0;34m\u001b[0m\u001b[0;34m\u001b[0m\u001b[0m\n\u001b[0;32m--> 429\u001b[0;31m         \u001b[0mxy\u001b[0m \u001b[0;34m=\u001b[0m \u001b[0mnp\u001b[0m\u001b[0;34m.\u001b[0m\u001b[0masarray\u001b[0m\u001b[0;34m(\u001b[0m\u001b[0;34m[\u001b[0m\u001b[0mpos\u001b[0m\u001b[0;34m[\u001b[0m\u001b[0mv\u001b[0m\u001b[0;34m]\u001b[0m \u001b[0;32mfor\u001b[0m \u001b[0mv\u001b[0m \u001b[0;32min\u001b[0m \u001b[0mnodelist\u001b[0m\u001b[0;34m]\u001b[0m\u001b[0;34m)\u001b[0m\u001b[0;34m\u001b[0m\u001b[0;34m\u001b[0m\u001b[0m\n\u001b[0m\u001b[1;32m    430\u001b[0m     \u001b[0;32mexcept\u001b[0m \u001b[0mKeyError\u001b[0m \u001b[0;32mas\u001b[0m \u001b[0merr\u001b[0m\u001b[0;34m:\u001b[0m\u001b[0;34m\u001b[0m\u001b[0;34m\u001b[0m\u001b[0m\n",
            "\u001b[0;32m/usr/local/lib/python3.10/dist-packages/networkx/drawing/nx_pylab.py\u001b[0m in \u001b[0;36m<listcomp>\u001b[0;34m(.0)\u001b[0m\n\u001b[1;32m    428\u001b[0m     \u001b[0;32mtry\u001b[0m\u001b[0;34m:\u001b[0m\u001b[0;34m\u001b[0m\u001b[0;34m\u001b[0m\u001b[0m\n\u001b[0;32m--> 429\u001b[0;31m         \u001b[0mxy\u001b[0m \u001b[0;34m=\u001b[0m \u001b[0mnp\u001b[0m\u001b[0;34m.\u001b[0m\u001b[0masarray\u001b[0m\u001b[0;34m(\u001b[0m\u001b[0;34m[\u001b[0m\u001b[0mpos\u001b[0m\u001b[0;34m[\u001b[0m\u001b[0mv\u001b[0m\u001b[0;34m]\u001b[0m \u001b[0;32mfor\u001b[0m \u001b[0mv\u001b[0m \u001b[0;32min\u001b[0m \u001b[0mnodelist\u001b[0m\u001b[0;34m]\u001b[0m\u001b[0;34m)\u001b[0m\u001b[0;34m\u001b[0m\u001b[0;34m\u001b[0m\u001b[0m\n\u001b[0m\u001b[1;32m    430\u001b[0m     \u001b[0;32mexcept\u001b[0m \u001b[0mKeyError\u001b[0m \u001b[0;32mas\u001b[0m \u001b[0merr\u001b[0m\u001b[0;34m:\u001b[0m\u001b[0;34m\u001b[0m\u001b[0;34m\u001b[0m\u001b[0m\n",
            "\u001b[0;31mKeyError\u001b[0m: 'Nike'",
            "\nThe above exception was the direct cause of the following exception:\n",
            "\u001b[0;31mNetworkXError\u001b[0m                             Traceback (most recent call last)",
            "\u001b[0;32m<ipython-input-42-324cd26f3a40>\u001b[0m in \u001b[0;36m<cell line: 76>\u001b[0;34m()\u001b[0m\n\u001b[1;32m     74\u001b[0m \u001b[0mplt\u001b[0m\u001b[0;34m.\u001b[0m\u001b[0mfigure\u001b[0m\u001b[0;34m(\u001b[0m\u001b[0mfigsize\u001b[0m\u001b[0;34m=\u001b[0m\u001b[0;34m(\u001b[0m\u001b[0;36m12\u001b[0m\u001b[0;34m,\u001b[0m \u001b[0;36m8\u001b[0m\u001b[0;34m)\u001b[0m\u001b[0;34m)\u001b[0m\u001b[0;34m\u001b[0m\u001b[0;34m\u001b[0m\u001b[0m\n\u001b[1;32m     75\u001b[0m \u001b[0;31m# pos = nx.multipartite_layout(G, subset_key='subset')\u001b[0m\u001b[0;34m\u001b[0m\u001b[0;34m\u001b[0m\u001b[0m\n\u001b[0;32m---> 76\u001b[0;31m \u001b[0mnx\u001b[0m\u001b[0;34m.\u001b[0m\u001b[0mdraw\u001b[0m\u001b[0;34m(\u001b[0m\u001b[0mG\u001b[0m\u001b[0;34m,\u001b[0m \u001b[0mpos\u001b[0m\u001b[0;34m,\u001b[0m \u001b[0mwith_labels\u001b[0m\u001b[0;34m=\u001b[0m\u001b[0;32mTrue\u001b[0m\u001b[0;34m,\u001b[0m \u001b[0mnode_size\u001b[0m\u001b[0;34m=\u001b[0m\u001b[0;36m1500\u001b[0m\u001b[0;34m,\u001b[0m \u001b[0mnode_color\u001b[0m\u001b[0;34m=\u001b[0m\u001b[0;34m\"skyblue\"\u001b[0m\u001b[0;34m,\u001b[0m \u001b[0mfont_size\u001b[0m\u001b[0;34m=\u001b[0m\u001b[0;36m10\u001b[0m\u001b[0;34m,\u001b[0m \u001b[0mfont_weight\u001b[0m\u001b[0;34m=\u001b[0m\u001b[0;34m\"bold\"\u001b[0m\u001b[0;34m,\u001b[0m \u001b[0marrows\u001b[0m\u001b[0;34m=\u001b[0m\u001b[0;32mTrue\u001b[0m\u001b[0;34m)\u001b[0m\u001b[0;34m\u001b[0m\u001b[0;34m\u001b[0m\u001b[0m\n\u001b[0m\u001b[1;32m     77\u001b[0m \u001b[0mplt\u001b[0m\u001b[0;34m.\u001b[0m\u001b[0mtitle\u001b[0m\u001b[0;34m(\u001b[0m\u001b[0;34m\"Hierarchy Tree\"\u001b[0m\u001b[0;34m)\u001b[0m\u001b[0;34m\u001b[0m\u001b[0;34m\u001b[0m\u001b[0m\n\u001b[1;32m     78\u001b[0m \u001b[0mplt\u001b[0m\u001b[0;34m.\u001b[0m\u001b[0mshow\u001b[0m\u001b[0;34m(\u001b[0m\u001b[0;34m)\u001b[0m\u001b[0;34m\u001b[0m\u001b[0;34m\u001b[0m\u001b[0m\n",
            "\u001b[0;32m/usr/local/lib/python3.10/dist-packages/networkx/drawing/nx_pylab.py\u001b[0m in \u001b[0;36mdraw\u001b[0;34m(G, pos, ax, **kwds)\u001b[0m\n\u001b[1;32m    119\u001b[0m         \u001b[0mkwds\u001b[0m\u001b[0;34m[\u001b[0m\u001b[0;34m\"with_labels\"\u001b[0m\u001b[0;34m]\u001b[0m \u001b[0;34m=\u001b[0m \u001b[0;34m\"labels\"\u001b[0m \u001b[0;32min\u001b[0m \u001b[0mkwds\u001b[0m\u001b[0;34m\u001b[0m\u001b[0;34m\u001b[0m\u001b[0m\n\u001b[1;32m    120\u001b[0m \u001b[0;34m\u001b[0m\u001b[0m\n\u001b[0;32m--> 121\u001b[0;31m     \u001b[0mdraw_networkx\u001b[0m\u001b[0;34m(\u001b[0m\u001b[0mG\u001b[0m\u001b[0;34m,\u001b[0m \u001b[0mpos\u001b[0m\u001b[0;34m=\u001b[0m\u001b[0mpos\u001b[0m\u001b[0;34m,\u001b[0m \u001b[0max\u001b[0m\u001b[0;34m=\u001b[0m\u001b[0max\u001b[0m\u001b[0;34m,\u001b[0m \u001b[0;34m**\u001b[0m\u001b[0mkwds\u001b[0m\u001b[0;34m)\u001b[0m\u001b[0;34m\u001b[0m\u001b[0;34m\u001b[0m\u001b[0m\n\u001b[0m\u001b[1;32m    122\u001b[0m     \u001b[0max\u001b[0m\u001b[0;34m.\u001b[0m\u001b[0mset_axis_off\u001b[0m\u001b[0;34m(\u001b[0m\u001b[0;34m)\u001b[0m\u001b[0;34m\u001b[0m\u001b[0;34m\u001b[0m\u001b[0m\n\u001b[1;32m    123\u001b[0m     \u001b[0mplt\u001b[0m\u001b[0;34m.\u001b[0m\u001b[0mdraw_if_interactive\u001b[0m\u001b[0;34m(\u001b[0m\u001b[0;34m)\u001b[0m\u001b[0;34m\u001b[0m\u001b[0;34m\u001b[0m\u001b[0m\n",
            "\u001b[0;32m/usr/local/lib/python3.10/dist-packages/networkx/drawing/nx_pylab.py\u001b[0m in \u001b[0;36mdraw_networkx\u001b[0;34m(G, pos, arrows, with_labels, **kwds)\u001b[0m\n\u001b[1;32m    302\u001b[0m         \u001b[0mpos\u001b[0m \u001b[0;34m=\u001b[0m \u001b[0mnx\u001b[0m\u001b[0;34m.\u001b[0m\u001b[0mdrawing\u001b[0m\u001b[0;34m.\u001b[0m\u001b[0mspring_layout\u001b[0m\u001b[0;34m(\u001b[0m\u001b[0mG\u001b[0m\u001b[0;34m)\u001b[0m  \u001b[0;31m# default to spring layout\u001b[0m\u001b[0;34m\u001b[0m\u001b[0;34m\u001b[0m\u001b[0m\n\u001b[1;32m    303\u001b[0m \u001b[0;34m\u001b[0m\u001b[0m\n\u001b[0;32m--> 304\u001b[0;31m     \u001b[0mdraw_networkx_nodes\u001b[0m\u001b[0;34m(\u001b[0m\u001b[0mG\u001b[0m\u001b[0;34m,\u001b[0m \u001b[0mpos\u001b[0m\u001b[0;34m,\u001b[0m \u001b[0;34m**\u001b[0m\u001b[0mnode_kwds\u001b[0m\u001b[0;34m)\u001b[0m\u001b[0;34m\u001b[0m\u001b[0;34m\u001b[0m\u001b[0m\n\u001b[0m\u001b[1;32m    305\u001b[0m     \u001b[0mdraw_networkx_edges\u001b[0m\u001b[0;34m(\u001b[0m\u001b[0mG\u001b[0m\u001b[0;34m,\u001b[0m \u001b[0mpos\u001b[0m\u001b[0;34m,\u001b[0m \u001b[0marrows\u001b[0m\u001b[0;34m=\u001b[0m\u001b[0marrows\u001b[0m\u001b[0;34m,\u001b[0m \u001b[0;34m**\u001b[0m\u001b[0medge_kwds\u001b[0m\u001b[0;34m)\u001b[0m\u001b[0;34m\u001b[0m\u001b[0;34m\u001b[0m\u001b[0m\n\u001b[1;32m    306\u001b[0m     \u001b[0;32mif\u001b[0m \u001b[0mwith_labels\u001b[0m\u001b[0;34m:\u001b[0m\u001b[0;34m\u001b[0m\u001b[0;34m\u001b[0m\u001b[0m\n",
            "\u001b[0;32m/usr/local/lib/python3.10/dist-packages/networkx/drawing/nx_pylab.py\u001b[0m in \u001b[0;36mdraw_networkx_nodes\u001b[0;34m(G, pos, nodelist, node_size, node_color, node_shape, alpha, cmap, vmin, vmax, ax, linewidths, edgecolors, label, margins)\u001b[0m\n\u001b[1;32m    429\u001b[0m         \u001b[0mxy\u001b[0m \u001b[0;34m=\u001b[0m \u001b[0mnp\u001b[0m\u001b[0;34m.\u001b[0m\u001b[0masarray\u001b[0m\u001b[0;34m(\u001b[0m\u001b[0;34m[\u001b[0m\u001b[0mpos\u001b[0m\u001b[0;34m[\u001b[0m\u001b[0mv\u001b[0m\u001b[0;34m]\u001b[0m \u001b[0;32mfor\u001b[0m \u001b[0mv\u001b[0m \u001b[0;32min\u001b[0m \u001b[0mnodelist\u001b[0m\u001b[0;34m]\u001b[0m\u001b[0;34m)\u001b[0m\u001b[0;34m\u001b[0m\u001b[0;34m\u001b[0m\u001b[0m\n\u001b[1;32m    430\u001b[0m     \u001b[0;32mexcept\u001b[0m \u001b[0mKeyError\u001b[0m \u001b[0;32mas\u001b[0m \u001b[0merr\u001b[0m\u001b[0;34m:\u001b[0m\u001b[0;34m\u001b[0m\u001b[0;34m\u001b[0m\u001b[0m\n\u001b[0;32m--> 431\u001b[0;31m         \u001b[0;32mraise\u001b[0m \u001b[0mnx\u001b[0m\u001b[0;34m.\u001b[0m\u001b[0mNetworkXError\u001b[0m\u001b[0;34m(\u001b[0m\u001b[0;34mf\"Node {err} has no position.\"\u001b[0m\u001b[0;34m)\u001b[0m \u001b[0;32mfrom\u001b[0m \u001b[0merr\u001b[0m\u001b[0;34m\u001b[0m\u001b[0;34m\u001b[0m\u001b[0m\n\u001b[0m\u001b[1;32m    432\u001b[0m \u001b[0;34m\u001b[0m\u001b[0m\n\u001b[1;32m    433\u001b[0m     \u001b[0;32mif\u001b[0m \u001b[0misinstance\u001b[0m\u001b[0;34m(\u001b[0m\u001b[0malpha\u001b[0m\u001b[0;34m,\u001b[0m \u001b[0mIterable\u001b[0m\u001b[0;34m)\u001b[0m\u001b[0;34m:\u001b[0m\u001b[0;34m\u001b[0m\u001b[0;34m\u001b[0m\u001b[0m\n",
            "\u001b[0;31mNetworkXError\u001b[0m: Node 'Nike' has no position."
          ]
        },
        {
          "output_type": "display_data",
          "data": {
            "text/plain": [
              "<Figure size 1200x800 with 1 Axes>"
            ],
            "image/png": "[encoded data removed]"
          },
          "metadata": {}
        }
      ]
    }
  ]
}