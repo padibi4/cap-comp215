{
  "nbformat": 4,
  "nbformat_minor": 0,
  "metadata": {
    "colab": {
      "provenance": [],
      "authorship_tag": "ABX9TyNM554m2TMqeWYushHZiEm1",
      "include_colab_link": true
    },
    "kernelspec": {
      "name": "python3",
      "display_name": "Python 3"
    },
    "language_info": {
      "name": "python"
    }
  },
  "cells": [
    {
      "cell_type": "markdown",
      "metadata": {
        "id": "view-in-github",
        "colab_type": "text"
      },
      "source": [
        "<a href=\"https://colab.research.google.com/github/padibi4/cap-comp215/blob/main/midterm_practice.ipynb\" target=\"_parent\"><img src=\"https://colab.research.google.com/assets/colab-badge.svg\" alt=\"Open In Colab\"/></a>"
      ]
    },
    {
      "cell_type": "code",
      "execution_count": 1,
      "metadata": {
        "id": "Q7zW6MTq8BsN"
      },
      "outputs": [],
      "source": [
        "import itertools\n",
        "from dataclasses import dataclass\n",
        "import matplotlib.pyplot as plt\n",
        "import networkx as nx\n",
        "import numpy as np\n",
        "import random\n",
        "from collections import defaultdict"
      ]
    },
    {
      "cell_type": "code",
      "source": [
        "close_approaches = [\n",
        " {'close_approach_date': '1900-10-30',\n",
        "  'close_approach_date_full': '1900-Oct-30 21:15',\n",
        "  'epoch_date_close_approach': -2182819500000,\n",
        "  'miss_distance': {'astronomical': '0.4183489295',\n",
        "                    'kilometers': '62584108.769980165',\n",
        "                    'lunar': '162.7377335755',\n",
        "                    'miles': '38887961.930909677'},\n",
        "  'orbiting_body': 'Earth',\n",
        "  'relative_velocity': {'kilometers_per_hour': '30027.9641223136',\n",
        "                        'kilometers_per_second': '8.3411011451',\n",
        "                        'miles_per_hour': '18658.2091514453'}\n",
        " },\n",
        " {'close_approach_date': '1901-06-26',\n",
        "  'close_approach_date_full': '1901-Jun-26 20:27',\n",
        "  'epoch_date_close_approach': -2162172780000,\n",
        "  'miss_distance': {'astronomical': '0.0308795665',\n",
        "                    'kilometers': '4619517.374923355',\n",
        "                    'lunar': '12.0121513685',\n",
        "                    'miles': '2870434.992938099'},\n",
        "  'orbiting_body': 'Earth',\n",
        "  'relative_velocity': {'kilometers_per_hour': '33429.0066078308',\n",
        "                        'kilometers_per_second': '9.2858351688',\n",
        "                        'miles_per_hour': '20771.4846891824'}\n",
        " },\n",
        " {'close_approach_date': '1907-01-08',\n",
        "  'close_approach_date_full': '1907-Jan-08 04:37',\n",
        "  'epoch_date_close_approach': -1987528980000,\n",
        "  'miss_distance': {'astronomical': '0.1240285628',\n",
        "                    'kilometers': '18554408.814041236',\n",
        "                    'lunar': '48.2471109292',\n",
        "                    'miles': '11529175.0220956168'},\n",
        "  'orbiting_body': 'Venus',\n",
        "  'relative_velocity': {'kilometers_per_hour': '24041.8395567329',\n",
        "                        'kilometers_per_second': '6.6782887658',\n",
        "                        'miles_per_hour': '14938.6641401266'}\n",
        " },\n",
        " {'close_approach_date': '1907-09-06',\n",
        "  'close_approach_date_full': '1907-Sep-06 10:51',\n",
        "  'epoch_date_close_approach': -1966684140000,\n",
        "  'miss_distance': {'astronomical': '0.4147265741',\n",
        "                    'kilometers': '62042212.117757167',\n",
        "                    'lunar': '161.3286373249',\n",
        "                    'miles': '38551242.9650842246'},\n",
        "  'orbiting_body': 'Earth',\n",
        "  'relative_velocity': {'kilometers_per_hour': '26520.1894310292',\n",
        "                        'kilometers_per_second': '7.3667192864',\n",
        "                        'miles_per_hour': '16478.6143717415'}\n",
        " },\n",
        " {'close_approach_date': '1909-08-06',\n",
        "  'close_approach_date_full': '1909-Aug-06 06:41',\n",
        "  'epoch_date_close_approach': -1906219140000,\n",
        "  'miss_distance': {'astronomical': '0.1317215629',\n",
        "                    'kilometers': '19705265.242911023',\n",
        "                    'lunar': '51.2396879681',\n",
        "                    'miles': '12244284.0469491974'},\n",
        "  'orbiting_body': 'Venus',\n",
        "  'relative_velocity': {'kilometers_per_hour': '7812.3369916648',\n",
        "                        'kilometers_per_second': '2.1700936088',\n",
        "                        'miles_per_hour': '4854.2823935153'}\n",
        " },\n",
        "]"
      ],
      "metadata": {
        "id": "6RiBdYcY8HfU"
      },
      "execution_count": 2,
      "outputs": []
    },
    {
      "cell_type": "code",
      "source": [
        "close_approaches_within_10M_km = [\n",
        "    approach['close_approach_date']\n",
        "    for approach in close_approaches\n",
        "    if float(approach['miss_distance']['kilometers']) < 10000000\n",
        "]\n",
        "\n",
        "print(close_approaches_within_10M_km)"
      ],
      "metadata": {
        "colab": {
          "base_uri": "https://localhost:8080/"
        },
        "id": "iNQ-jlJT8MyU",
        "outputId": "3b3dd4b4-aaae-4d98-e9a2-72cacbefb09a"
      },
      "execution_count": 3,
      "outputs": [
        {
          "output_type": "stream",
          "name": "stdout",
          "text": [
            "['1901-06-26']\n"
          ]
        }
      ]
    },
    {
      "cell_type": "code",
      "source": [
        "from collections import defaultdict\n",
        "\n",
        "# Given list of close approaches\n",
        "close_approaches = [\n",
        "    'Kepler-152 b', 'Kepler-122 f', 'Kepler-413 b', 'Kepler-120 b', 'Kepler-173 b',\n",
        "    'Kepler-262 b', 'Kepler-116 b', 'Kepler-342 c', 'Kepler-178 d', 'Kepler-300 c',\n",
        "    'Kepler-285 c', 'Kepler-84 d', 'Kepler-151 c', 'Kepler-326 d', 'Kepler-334 b',\n",
        "    'Kepler-401 c'\n",
        "]\n",
        "\n",
        "# Create a defaultdict to store counts of close approaches for each orbiting_body\n",
        "orbiting_body_counts = defaultdict(int)\n",
        "\n",
        "# Count the number of close approaches for each orbiting_body\n",
        "for approach in close_approaches:\n",
        "    orbiting_body = approach.split()[0]  # Extract the orbiting_body from the approach name\n",
        "    orbiting_body_counts[orbiting_body] += 1  # Increment the count for the orbiting_body\n",
        "\n",
        "print(dict(orbiting_body_counts))"
      ],
      "metadata": {
        "colab": {
          "base_uri": "https://localhost:8080/"
        },
        "id": "_zeG0KfU87T8",
        "outputId": "eabac278-3e79-4ea3-b948-d7fcd6bc76bc"
      },
      "execution_count": 4,
      "outputs": [
        {
          "output_type": "stream",
          "name": "stdout",
          "text": [
            "{'Kepler-152': 1, 'Kepler-122': 1, 'Kepler-413': 1, 'Kepler-120': 1, 'Kepler-173': 1, 'Kepler-262': 1, 'Kepler-116': 1, 'Kepler-342': 1, 'Kepler-178': 1, 'Kepler-300': 1, 'Kepler-285': 1, 'Kepler-84': 1, 'Kepler-151': 1, 'Kepler-326': 1, 'Kepler-334': 1, 'Kepler-401': 1}\n"
          ]
        }
      ]
    },
    {
      "cell_type": "code",
      "source": [
        "import matplotlib.pyplot as plt\n",
        "\n",
        "# Sample data (replace this with your own data)\n",
        "approaches_by_planet = {\n",
        "    'Mercury': 10,\n",
        "    'Venus': 15,\n",
        "    'Earth': 20,\n",
        "    'Mars': 12,\n",
        "    'Jupiter': 18,\n",
        "    'Saturn': 14,\n",
        "    'Uranus': 8,\n",
        "    'Neptune': 6\n",
        "}\n",
        "\n",
        "# Extracting planet names and their corresponding approach counts\n",
        "planets = list(approaches_by_planet.keys())\n",
        "approach_counts = list(approaches_by_planet.values())\n",
        "\n",
        "# Creating bar chart\n",
        "plt.bar(planets, approach_counts)\n",
        "\n",
        "# Show the plot\n",
        "plt.show()"
      ],
      "metadata": {
        "colab": {
          "base_uri": "https://localhost:8080/",
          "height": 430
        },
        "id": "0dWDaT9pPUXc",
        "outputId": "5a2bbea1-c4d2-47ec-bd3c-341846fae886"
      },
      "execution_count": 1,
      "outputs": [
        {
          "output_type": "display_data",
          "data": {
            "text/plain": [
              "<Figure size 640x480 with 1 Axes>"
            ],
            "image/png": "[encoded data removed]"
          },
          "metadata": {}
        }
      ]
    },
    {
      "cell_type": "code",
      "source": [
        "class CloseApproach:\n",
        "    def __init__(self, approach_date, orbiting_body, miss_distance_km):\n",
        "        self.approach_date = approach_date\n",
        "        self.orbiting_body = orbiting_body\n",
        "        self.miss_distance_km = miss_distance_km\n",
        "\n",
        "    def __str__(self):\n",
        "        return f\"Close approach on {self.approach_date} by {self.orbiting_body}\"\n",
        "\n",
        "    def has_same_planet(self, other):\n",
        "        return self.orbiting_body == other.orbiting_body\n",
        "\n",
        "# Test the class and its methods\n",
        "if __name__ == \"__main__\":\n",
        "    # Create two CloseApproach objects\n",
        "    approach1 = CloseApproach(\"2024-03-06\", \"Earth\", 10000)\n",
        "    approach2 = CloseApproach(\"2024-03-07\", \"Mars\", 20000)\n",
        "    approach3 = CloseApproach(\"2024-03-08\", \"Earth\", 5000)\n",
        "\n",
        "    # Test __str__() method\n",
        "    print(approach1)  # Output: Close approach on 2024-03-06 by Earth\n",
        "\n",
        "    # Test has_same_planet() method\n",
        "    print(approach1.has_same_planet(approach2))  # Output: False\n",
        "    print(approach1.has_same_planet(approach3))"
      ],
      "metadata": {
        "colab": {
          "base_uri": "https://localhost:8080/"
        },
        "id": "owlRXJb0RseK",
        "outputId": "4f055d2a-3f68-4174-92ed-80557a35acbc"
      },
      "execution_count": 2,
      "outputs": [
        {
          "output_type": "stream",
          "name": "stdout",
          "text": [
            "Close approach on 2024-03-06 by Earth\n",
            "False\n",
            "True\n"
          ]
        }
      ]
    },
    {
      "cell_type": "code",
      "source": [
        "import numpy as np\n",
        "\n",
        "house_sizes = np.array([251, 110, 92, 189, 215, 142, 126, 268, 243, 194])\n",
        "wrapped_sizes = np.pad(house_sizes, 1, mode='wrap')\n",
        "\n",
        "# 1. What is the size of the first house?\n",
        "first_house_size = house_sizes[-1]\n",
        "print(\"Size of the first house:\", first_house_size)\n",
        "\n",
        "# 2. What is the size of the second house?\n",
        "second_house_size = house_sizes[0]\n",
        "print(\"Size of the second house:\", second_house_size)\n",
        "\n",
        "# 3. What is the size of the last house?\n",
        "last_house_size = house_sizes[-1]\n",
        "print(\"Size of the last house:\", last_house_size)\n",
        "\n",
        "# 4. What are the sizes of the next-door neighbors of the third house?\n",
        "third_house_left_neighbor = wrapped_sizes[2]\n",
        "third_house_right_neighbor = wrapped_sizes[4]\n",
        "print(\"Size of the left neighbor of the third house:\", third_house_left_neighbor)\n",
        "print(\"Size of the right neighbor of the third house:\", third_house_right_neighbor)\n",
        "\n",
        "# 5. What are the sizes of the next-door neighbors of the last house?\n",
        "last_house_left_neighbor = wrapped_sizes[-2]\n",
        "last_house_right_neighbor = wrapped_sizes[1]\n",
        "print(\"Size of the left neighbor of the last house:\", last_house_left_neighbor)\n",
        "print(\"Size of the right neighbor of the last house:\", last_house_right_neighbor)\n"
      ],
      "metadata": {
        "colab": {
          "base_uri": "https://localhost:8080/"
        },
        "id": "mxAWv7gmfGdS",
        "outputId": "66da8469-4c4e-4b75-aaa6-fa35e1081585"
      },
      "execution_count": 3,
      "outputs": [
        {
          "output_type": "stream",
          "name": "stdout",
          "text": [
            "Size of the first house: 194\n",
            "Size of the second house: 251\n",
            "Size of the last house: 194\n",
            "Size of the left neighbor of the third house: 110\n",
            "Size of the right neighbor of the third house: 189\n",
            "Size of the left neighbor of the last house: 194\n",
            "Size of the right neighbor of the last house: 251\n"
          ]
        }
      ]
    },
    {
      "cell_type": "code",
      "source": [
        "import numpy as np\n",
        "\n",
        "house_sizes = np.array([251, 110, 92, 189, 215, 142, 126, 268, 243, 194])\n",
        "wrapped_sizes = np.pad(house_sizes, 1, mode='wrap')\n",
        "\n",
        "# Define the correlation kernel\n",
        "kernel = np.array([0.5, 0.5])\n",
        "\n",
        "# Compute the correlation\n",
        "correlation = np.correlate(wrapped_sizes, kernel, mode='valid')\n",
        "\n",
        "# Compute the average size of each house's two next-door neighbors\n",
        "average_neighbor_size = correlation / 2\n",
        "\n",
        "print(\"Average size of each house's two next-door neighbors:\")\n",
        "print(average_neighbor_size)\n"
      ],
      "metadata": {
        "colab": {
          "base_uri": "https://localhost:8080/"
        },
        "id": "AUc21i8qf69L",
        "outputId": "8d89ca5b-22b3-4e79-860d-1741d312539c"
      },
      "execution_count": 4,
      "outputs": [
        {
          "output_type": "stream",
          "name": "stdout",
          "text": [
            "Average size of each house's two next-door neighbors:\n",
            "[111.25  90.25  50.5   70.25 101.    89.25  67.    98.5  127.75 109.25\n",
            " 111.25]\n"
          ]
        }
      ]
    }
  ]
}