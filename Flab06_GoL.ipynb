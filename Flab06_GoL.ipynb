{
  "cells": [
    {
      "cell_type": "markdown",
      "metadata": {
        "id": "view-in-github",
        "colab_type": "text"
      },
      "source": [
        "<a href=\"https://colab.research.google.com/github/padibi4/cap-comp215/blob/main/Flab06_GoL.ipynb\" target=\"_parent\"><img src=\"https://colab.research.google.com/assets/colab-badge.svg\" alt=\"Open In Colab\"/></a>"
      ]
    },
    {
      "cell_type": "markdown",
      "metadata": {
        "collapsed": true,
        "pycharm": {
          "name": "#%% md\n"
        },
        "id": "egW_lSqbclsC"
      },
      "source": [
        "COMP 215 - LAB 6 (Game of Life)\n",
        "-----------------------------------------------\n",
        "#### Name: Paniz\n",
        "#### Date:\n",
        "\n",
        "This lab exercise is an introduction to [Conway's Game of Life](https://en.wikipedia.org/wiki/Conway%27s_Game_of_Life) discovered and studied by [John Conway](https://en.wikipedia.org/wiki/John_Horton_Conway).\n",
        "\n",
        "**New Python concepts**:\n",
        "   * 2D numpy [array](https://numpy.org/doc/stable/reference/generated/numpy.array.html)\n",
        "   * basic [array operations](https://www.pluralsight.com/guides/overview-basic-numpy-operations)\n",
        "\n",
        "**New Computation concepts**:\n",
        "   * [2D sliding dot product](https://docs.scipy.org/doc/scipy/reference/generated/scipy.signal.correlate2d.html)\n",
        "   * [Animation](https://matplotlib.org/stable/api/animation_api.html)\n",
        "\n",
        "**Credits**:\n",
        "    Code examples based on [Think Complexity, 2nd edition](https://thinkcomplex.com).\n",
        "    Copyright 2016 Allen Downey, [MIT License](http://opensource.org/licenses/MIT)\n",
        "\n",
        "As usual, the first code cell simply imports all the modules we'll be using..."
      ]
    },
    {
      "cell_type": "code",
      "execution_count": null,
      "outputs": [],
      "source": [
        "import time\n",
        "import matplotlib\n",
        "import matplotlib.pyplot as plt\n",
        "from matplotlib import animation\n",
        "import numpy as np\n",
        "from scipy.signal import correlate2d\n",
        "\n",
        "%matplotlib inline\n",
        "# Configure matplotlib's animation library to work in the browser.\n",
        "matplotlib.rc('animation', html='jshtml')"
      ],
      "metadata": {
        "pycharm": {
          "name": "#%%\n"
        },
        "ExecuteTime": {
          "end_time": "2024-01-06T00:59:30.713969Z",
          "start_time": "2024-01-06T00:59:29.426998Z"
        },
        "id": "lX9Oua0BclsD"
      }
    },
    {
      "cell_type": "markdown",
      "source": [
        "A reusable function for plotting 2D numpy.array as an image..."
      ],
      "metadata": {
        "collapsed": false,
        "pycharm": {
          "name": "#%% md\n"
        },
        "id": "Lxh73cjMclsE"
      }
    },
    {
      "cell_type": "code",
      "execution_count": null,
      "outputs": [],
      "source": [
        "def plot_2d_array(array, axes=None, title='', cmap='Blues', **options):\n",
        "    \"\"\"\n",
        "    Plot the 2D array as an image on the given axes  1's will be dark blue, 0's will be light blue.\n",
        "\n",
        "    :param axes: the axes to plot on, or None to use the `plt.gca()` (current axes)\n",
        "    :param options: keyword arguments passed directly to `plt.imshow()`\n",
        "           see https://matplotlib.org/stable/api/_as_gen/matplotlib.axes.Axes.imshow.html\n",
        "    \"\"\"\n",
        "    axes = axes or plt.gca()  # If not axes are provided, draw on current axes\n",
        "    axes.set_title(title)\n",
        "    # Turn off axes labels and tick marks\n",
        "    axes.tick_params(axis='both', which='both', bottom=False, top=False, left=False, right=False ,\n",
        "                     labelbottom=False, labeltop=False, labelleft=False, labelright=False,)\n",
        "    # Defaults for displaying a \"matrix\" with hard-pixel boundaries and (0,0) at top-left\n",
        "    options = {**dict(interpolation='nearest', origin='upper'), **options}\n",
        "    axes.imshow(array, cmap=cmap, **options)"
      ],
      "metadata": {
        "pycharm": {
          "name": "#%%\n"
        },
        "ExecuteTime": {
          "end_time": "2024-01-06T00:59:30.719129Z",
          "start_time": "2024-01-06T00:59:30.716251Z"
        },
        "id": "5QjpBEK-clsF"
      }
    },
    {
      "cell_type": "markdown",
      "source": [
        "## Life Fundamentals\n",
        "Both the textbook and our week6 notebooks develop some fundamental operations for simulating the Game of Life.\n",
        "Some of the code from `week6.ipynb` is reproduced here without deriving all the ideas - review `week6.ipynb` notebook for the full story.\n",
        "The sliding dot product algorithm in `step` is implemented with [scipy.signal.correlate2d](https://docs.scipy.org/doc/scipy/reference/generated/scipy.signal.correlate2d.html).  It's behaviour is identical to the derivation in `week6.ipynb`.\n",
        "\n",
        "#### Notes\n",
        "* we use `correlate2d(state, kernel, mode='same', boundary='wrap')` to pad state matrix with 1 value around perimeter from the opposite side of the matrix.\n",
        "* since the rule is a 1D `np.array`, we use \"vector indexing\" here to set the 'live' state transitions:  `next_state[[3, 12, 13]] = 1`"
      ],
      "metadata": {
        "collapsed": false,
        "pycharm": {
          "name": "#%% md\n"
        },
        "id": "tJpAU3pRclsF"
      }
    },
    {
      "cell_type": "code",
      "execution_count": null,
      "outputs": [],
      "source": [
        "class Life2D:\n",
        "    \"\"\" An basic 2D Cellular Automata that implementes Conway's Game of Life \"\"\"\n",
        "    kernel = np.array([[1, 1, 1],\n",
        "                       [1, 10, 1],\n",
        "                       [1, 1, 1]])\n",
        "\n",
        "    next_state = np.zeros(19, dtype=np.uint8)\n",
        "    next_state[[3, 12, 13]] = 1\n",
        "\n",
        "    def __init__(self, n_rows, n_cols=None):\n",
        "        \"\"\" Construct a n_rows x n_cols 2D CA \"\"\"\n",
        "        n_cols = n_cols or n_rows  # i.e., n_cols if n_cols is not None and n_cols != 0 else n_rows\n",
        "        self.state = np.zeros(shape=(n_rows, n_cols), dtype=np.uint8)\n",
        "\n",
        "    def step(self):\n",
        "        \"\"\"Executes one time step. \"\"\"\n",
        "        transitions = correlate2d(self.state, self.kernel, mode='same', boundary='wrap')\n",
        "        self.state = self.next_state[transitions]\n",
        "\n",
        "    def draw(self, axes=None, step=''):\n",
        "        axes = axes or plt.gca()   # use pyplot's current axes if none are provided.\n",
        "        plot_2d_array(self.state, axes, title=f\"Conway's Game of Life {step}\")"
      ],
      "metadata": {
        "pycharm": {
          "name": "#%%\n"
        },
        "ExecuteTime": {
          "end_time": "2024-01-06T00:59:30.722229Z",
          "start_time": "2024-01-06T00:59:30.719978Z"
        },
        "id": "d1vM0Bf-clsG"
      }
    },
    {
      "cell_type": "markdown",
      "source": [
        "### Visualizing a 2D simulation model\n",
        "For 1D CAs, we could use a 2D image to visualize the CA progression over time.\n",
        "For 2D CAs, we could try using time as a 3rd axis to generate a 3D visualziation, but without VR, its hard to explore a 3D visualization.\n",
        "Instead, we'll use a simple 2D [\"stop motion\" animation](https://en.wikipedia.org/wiki/Animation).\n",
        "Here is a generic class that animates any 2D model that provides step() and draw() methods, and uses matplotlib to render its state.\n",
        "\n",
        "See [Matplotlib animation in Jupyter](https://www.allendowney.com/blog/2019/07/25/matplotlib-animation-in-jupyter/) by our textbook author for a discussion of the pros and cons of various animation techniques in jupyter notebooks."
      ],
      "metadata": {
        "collapsed": false,
        "pycharm": {
          "name": "#%% md\n"
        },
        "id": "N1fv-1VuclsG"
      }
    },
    {
      "cell_type": "code",
      "execution_count": null,
      "outputs": [],
      "source": [
        "class Animation2D:\n",
        "    \"\"\"\n",
        "      Animates any 2D model with a step() method and a draw() method, using matplotlib\n",
        "      model.step() should take no parameters - just step the model forward one step.\n",
        "      model.draw() should take 2 parameters, the matpltolib axes to draw on and an integer step number\n",
        "    \"\"\"\n",
        "\n",
        "    def __init__(self, model, frames=50, figsize=(8, 8)):\n",
        "        \"\"\"\n",
        "        :param model: the simulation object to animate, with step() and draw(axes, step) methods\n",
        "        :param frames: number of animation frames to generate\n",
        "        \"\"\"\n",
        "        self.model = model\n",
        "        self.frames = frames\n",
        "        self.fig, self.ax = plt.subplots(figsize=figsize)\n",
        "\n",
        "    def animation_step(self, step):\n",
        "        \"\"\" Step the model forward and draw the plot \"\"\"\n",
        "        if step > 0:\n",
        "            self.model.step()\n",
        "        self.model.draw(self.ax, step=step)\n",
        "\n",
        "    def show(self):\n",
        "        \"\"\" return the matplotlib animation object, ready for display \"\"\"\n",
        "        anim = animation.FuncAnimation(self.fig, self.animation_step, frames=self.frames)\n",
        "        plt.close()  # this ensures the last frame is not shown as a separate plot\n",
        "        return anim\n",
        "\n",
        "    def animate(self, interval=None):\n",
        "        \"\"\" Animate the model simulation directly in the notebook display block \"\"\"\n",
        "        from IPython.display import clear_output\n",
        "        try:\n",
        "            for i in range(self.frames):\n",
        "                clear_output(wait=True)  # clear the IPython display\n",
        "                self.ax.clear()          # clear old image from the axes (fixes a performance issue)\n",
        "                plt.figure(self.fig)     # add the figure back to pyplot ** sigh **\n",
        "                self.animation_step(i)\n",
        "                plt.show()               # show the current animation frame (pyplot then closes and throws away figure ** sigh **)\n",
        "                if interval:\n",
        "                    time.sleep(interval)\n",
        "        except KeyboardInterrupt:\n",
        "            pass"
      ],
      "metadata": {
        "pycharm": {
          "name": "#%%\n"
        },
        "ExecuteTime": {
          "end_time": "2024-01-06T00:59:30.727443Z",
          "start_time": "2024-01-06T00:59:30.724530Z"
        },
        "id": "CPCu4p-eclsG"
      }
    },
    {
      "cell_type": "markdown",
      "source": [
        "### Sample usage\n",
        "Animate a single glider..."
      ],
      "metadata": {
        "collapsed": false,
        "pycharm": {
          "name": "#%% md\n"
        },
        "id": "RtHdQo-KclsH"
      }
    },
    {
      "cell_type": "code",
      "execution_count": null,
      "outputs": [
        {
          "output_type": "display_data",
          "data": {
            "text/plain": [
              "<Figure size 800x800 with 1 Axes>"
            ],
            "image/png": "[encoded data removed]"
          },
          "metadata": {}
        }
      ],
      "source": [
        "size = 10\n",
        "life = Life2D(size)\n",
        "glider = np.array([[0, 1, 0], [0, 0, 1], [1, 1, 1]], dtype=np.uint8)\n",
        "life.state[1:4, 2:5] = glider             # bad idea to alter an objects state directly!  We'll improve it in Ex. 3\n",
        "gol = Animation2D(life, frames=20)\n",
        "gol.animate()"
      ],
      "metadata": {
        "pycharm": {
          "name": "#%%\n"
        },
        "id": "pu89TVMlclsH",
        "outputId": "c1079070-ecae-4c48-98bf-879868d1e63a",
        "colab": {
          "base_uri": "https://localhost:8080/",
          "height": 675
        }
      }
    },
    {
      "cell_type": "markdown",
      "source": [
        "## Exercise 1:  Enumerate all Elementary 2D CA's\n",
        "Write a line or 2 of code to compute and print the answer for each question:\n",
        "* how many unique states are there for a 3x3 (9 cell) neighbourhood?\n",
        "* how many unique “rules” are there? (where a rule provides a mapping for each possible neighbourhood state to the output for the centre cell)\n",
        "* how does this number compare, for example, to the [number of atoms in the observable universe?](https://en.wikipedia.org/wiki/Observable_universe#Matter_content%E2%80%94number_of_atoms)"
      ],
      "metadata": {
        "collapsed": false,
        "id": "u2bdjhp1clsI"
      }
    },
    {
      "cell_type": "markdown",
      "source": [
        "**Hi Joseph, I hope my codes don't freak you out with the way I put a comment after each line of code.I tried to explain what each line does so it could help me remember and have a better understanding of these codes when I try to write them again! The codes are done by myself I just got help to finish up question 3 with AI because I kept getting errors but I understood the errors after!**"
      ],
      "metadata": {
        "id": "VMnEunbr7yX9"
      }
    },
    {
      "cell_type": "code",
      "execution_count": null,
      "outputs": [
        {
          "output_type": "stream",
          "name": "stdout",
          "text": [
            "512\n",
            "Total number of unique rules are: 256\n",
            "8.682634730538921e+79\n"
          ]
        }
      ],
      "source": [
        "# Ex. 1 your code here...\n",
        "# question 1\n",
        "number_of_sells= 9  #initialized a cell number\n",
        "possibilities= 2 # initialized the number of possibilities\n",
        "\n",
        "unique_states= possibilities ** number_of_sells #initialize a value that take the possibilities for each cell and raise it to the power of 9.\n",
        "print(unique_states) # prints out the final result of this math operation (2 ^ 9)\n",
        "\n",
        "#question 2\n",
        "def unique_rules(size, num_states): # defining a function which takes the size and the number of states to count how many rules there are.\n",
        "    return num_states **(2 ** size) # the function ought to return num_states^ (2^size)\n",
        "\n",
        "size= 3 #initialized size is 3\n",
        "num_states = 2 # initialized num states is 2 around the centre cell\n",
        "total_rules = unique_rules(size, num_states) # finally it defines another value where it does the calculation of these two elements and store it on its name.\n",
        "\n",
        "print(\"Total number of unique rules are:\", total_rules)\n",
        "#question 3\n",
        "mass_of_ordinary_matter= 1.45 * (10**53)\n",
        "mass_of_hydrogen_atoms = 1.67 * (10**-27)\n",
        "number_of_atoms_in_observable_universe= mass_of_ordinary_matter / mass_of_hydrogen_atoms\n",
        "# number_of_atoms_in_observable_universe_2= number_of_atoms_in_observable_universe [:3]\n",
        "# \"dividing the mass of ordinary matter by the mass of a hydrogen atom.\"\n",
        "print(number_of_atoms_in_observable_universe)\n"
      ],
      "metadata": {
        "pycharm": {
          "name": "#%%\n"
        },
        "ExecuteTime": {
          "end_time": "2024-01-06T00:59:32.380370Z",
          "start_time": "2024-01-06T00:59:32.378662Z"
        },
        "id": "ZcgNXBJ8clsI",
        "outputId": "d01b0e5c-59a3-4139-be2a-53fef484bc76",
        "colab": {
          "base_uri": "https://localhost:8080/"
        }
      }
    },
    {
      "cell_type": "markdown",
      "source": [
        "Using what you learned above, concisely answer each question below (point form)1\n",
        "1. would it be a reasonable goal to conduct an experiment like Wolfram’s for 2D CA’s?\n",
        "2. propose a numbering scheme for these rules, analogous to Wolfram’s rule numbers\n",
        "3. how might we go about determining which rule number corresponds to Conway’s GoL?\n",
        "   (I’m not asking for the number, but rather for a method you could use to find it.)"
      ],
      "metadata": {
        "collapsed": false,
        "pycharm": {
          "name": "#%% md\n"
        },
        "id": "GD6UnCZWclsI"
      }
    },
    {
      "cell_type": "markdown",
      "source": [
        "#### Ex 1. Your Answers\n",
        "\n",
        "1. . Yes it would.\n",
        "2. .A numbering scheme for 2D cellular automata can be similar to Wolfram's rule numbers, where each rule is represented by an 8-digit binary number. The number of neighbors depends on the neighborhood type. For example, this scheme uses binary sequences of length 8 to represent neighborhood configurations, with corresponding decimal numbers as rule numbers, providing a systematic method for enumerating and referencing rules.\n",
        "3. Define the neighborhood configuration for each rule according to Conway's GoL rules.\n",
        "Look for the rule number that matches this configuration within the numbering scheme we generated."
      ],
      "metadata": {
        "collapsed": false,
        "id": "R1CXfObiclsJ"
      }
    },
    {
      "cell_type": "markdown",
      "source": [
        "## Exercise 2: random_life\n",
        "Extend the Life2D class defined above to allow the game to be initialized with a random start state.\n",
        "The liklihood of any given cell being initialized to \"alive\" is given by $p$.\n",
        "*Hint*: we did this exact exercise for a 1D array in previous lab"
      ],
      "metadata": {
        "collapsed": false,
        "pycharm": {
          "name": "#%% md\n"
        },
        "id": "36L2YvXyclsJ"
      }
    },
    {
      "cell_type": "code",
      "execution_count": null,
      "outputs": [],
      "source": [
        "# Ex. 2 experimental setup\n",
        "import random\n",
        "class BetterLife2D(Life2D):\n",
        "    \"\"\" Improvements on the basic Life2D model \"\"\"\n",
        "\n",
        "    def randomize_state(self, p):\n",
        "        \"\"\" Randomize the state of this GoL, where probability of a \"live\" cell is p \"\"\"\n",
        "        for i in range(self.rows):\n",
        "          for b in range (self.cols):\n",
        "            if random.random() < p:\n",
        "              self.array[i][b]= 1\n",
        "            else:\n",
        "              self.array[i][b]=0\n",
        "\n",
        "\n",
        "def random_life(n_rows, n_cols=None, p=0.5):\n",
        "    \"\"\" Return a Life2D object of given dimensions with initial randomized state where \"live\" cells have probability p \"\"\"\n",
        "    if n_cols is None:\n",
        "        n_cols = n_rows\n",
        "    life = BetterLife2D(n_rows, n_cols)\n",
        "    life.randomize_state(p)\n",
        "    return life"
      ],
      "metadata": {
        "pycharm": {
          "name": "#%%\n"
        },
        "ExecuteTime": {
          "end_time": "2024-01-06T00:59:32.383669Z",
          "start_time": "2024-01-06T00:59:32.381110Z"
        },
        "id": "3xzh6BZGclsJ"
      }
    },
    {
      "cell_type": "markdown",
      "source": [
        "### Experiment\n",
        "Run a small experiment to see if you can identify any relationship between $p$, the probability of a live cell in the initial grid, and the time it takes for the GoL pattern to stabilize."
      ],
      "metadata": {
        "collapsed": false,
        "pycharm": {
          "name": "#%% md\n"
        },
        "id": "LTT2uMXzclsK"
      }
    },
    {
      "cell_type": "code",
      "execution_count": null,
      "outputs": [],
      "source": [
        "# Ex. 2 write code for your experiment here..."
      ],
      "metadata": {
        "pycharm": {
          "name": "#%%\n"
        },
        "ExecuteTime": {
          "end_time": "2024-01-06T00:59:32.386367Z",
          "start_time": "2024-01-06T00:59:32.383563Z"
        },
        "id": "Z0ekliZ-clsK"
      }
    },
    {
      "cell_type": "code",
      "source": [
        "import random\n",
        "import numpy as np\n",
        "from scipy.signal import convolve2d\n",
        "\n",
        "class BetterLife2D:\n",
        "    \"\"\" Improvements on the basic Life2D model \"\"\"\n",
        "\n",
        "    def __init__(self, rows, cols):\n",
        "        self.rows = rows\n",
        "        self.cols = cols\n",
        "        self.array = np.zeros((rows, cols), dtype=int)\n",
        "\n",
        "    def randomize_state(self, p):\n",
        "        \"\"\" Randomize the state of this GoL, where probability of a \"live\" cell is p \"\"\"\n",
        "        for i in range(self.rows):\n",
        "            for j in range(self.cols):\n",
        "                if random.random() < p:\n",
        "                    self.array[i][j] = 1\n",
        "\n",
        "    def update(self):\n",
        "        \"\"\" Update the state of the GoL grid according to the rules \"\"\"\n",
        "        kernel = np.array([[1, 1, 1],\n",
        "                           [1, 0, 1],\n",
        "                           [1, 1, 1]])\n",
        "        neighbor_count = convolve2d(self.array, kernel, mode='same', boundary='wrap')\n",
        "        self.array = np.where(np.logical_or(neighbor_count == 3, np.logical_and(self.array == 1, neighbor_count == 2)), 1, 0)\n",
        "\n",
        "    def is_stable(self):\n",
        "        \"\"\" Check if the grid has stabilized \"\"\"\n",
        "        return np.all(self.array == 0) or np.all(self.array == 1)\n",
        "\n",
        "def random_life(n_rows, n_cols=None, p=0.5):\n",
        "    \"\"\" Return a Life2D object of given dimensions with initial randomized state where \"live\" cells have probability p \"\"\"\n",
        "    if n_cols is None:\n",
        "        n_cols = n_rows\n",
        "    life = BetterLife2D(n_rows, n_cols)\n",
        "    life.randomize_state(p)\n",
        "    return life\n",
        "\n",
        "def time_to_stabilize(p, n_rows, n_cols, max_iterations=1000):\n",
        "    \"\"\" Simulate GoL with random initial state with probability p and return time steps to stabilize \"\"\"\n",
        "    life = random_life(n_rows, n_cols, p)\n",
        "    for t in range(max_iterations):\n",
        "        life.update()\n",
        "        if life.is_stable():\n",
        "            return t + 1  # Adding 1 because t starts from 0\n",
        "    return max_iterations  # Return max_iterations if stabilization not reached within the limit\n",
        "\n",
        "# Experiment setup\n",
        "p_values = [0.1, 0.3, 0.5, 0.7, 0.9]  # Different probability values\n",
        "n_rows = 20  # Grid dimensions\n",
        "n_cols = 20\n",
        "\n",
        "# Run experiment for each probability value\n",
        "for p in p_values:\n",
        "    times = [time_to_stabilize(p, n_rows, n_cols) for _ in range(10)]  # Run 10 simulations for each probability\n",
        "    avg_time = np.mean(times)\n",
        "    print(f\"Probability (p = {p}): Average stabilization time = {avg_time}\")\n"
      ],
      "metadata": {
        "id": "ebFYZrxiVn9U",
        "outputId": "a0de0f19-a87a-4466-956d-e1f10f9cccc5",
        "colab": {
          "base_uri": "https://localhost:8080/"
        }
      },
      "execution_count": null,
      "outputs": [
        {
          "output_type": "stream",
          "name": "stdout",
          "text": [
            "Probability (p = 0.1): Average stabilization time = 602.6\n",
            "Probability (p = 0.3): Average stabilization time = 916.7\n",
            "Probability (p = 0.5): Average stabilization time = 1000.0\n",
            "Probability (p = 0.7): Average stabilization time = 900.4\n",
            "Probability (p = 0.9): Average stabilization time = 1.2\n"
          ]
        }
      ]
    },
    {
      "cell_type": "markdown",
      "source": [
        "## Exercise 3: Load Patterns\n",
        "People have discovered many interesting [\"patterns\"](https://conwaylife.com/wiki/Category:Patterns) that exhibit various types of behaviours.\n",
        "A \"pattern\" is just a small 2D array.\n",
        " 1. Develop a function that returns a 2D array containing the patterns defined by a single string; and\n",
        " 2. Add a `load_pattern(x, y, pattern)` method to your `BetterLife2D` class above to insert patterns into the Life state array\n",
        "    *Tip*: you can [assign an entire 2D slice of a numpy array](https://www.nickmccullum.com/advanced-python/numpy-indexing-assignment/) in a single assignment statement!   See example in the Sample Usage block above. Try it!"
      ],
      "metadata": {
        "collapsed": false,
        "pycharm": {
          "name": "#%% md\n"
        },
        "id": "8vp7UtUvclsK"
      }
    },
    {
      "cell_type": "code",
      "execution_count": null,
      "outputs": [],
      "source": [
        "# Here's an example of the glider pattern from above defined in a single string...\n",
        "glider_pattern = \\\n",
        "    \"\"\"\n",
        "    010\n",
        "    001\n",
        "    111\n",
        "    \"\"\"\n",
        "\n",
        "# Ex. 3 your code here..."
      ],
      "metadata": {
        "pycharm": {
          "name": "#%%\n"
        },
        "ExecuteTime": {
          "end_time": "2024-01-06T00:59:32.388974Z",
          "start_time": "2024-01-06T00:59:32.385536Z"
        },
        "id": "s96mS-xoclsK"
      }
    },
    {
      "cell_type": "code",
      "source": [
        "import numpy as np\n",
        "from scipy.signal import convolve2d\n",
        "\n",
        "class BetterLife2D:\n",
        "    \"\"\"Improvements on the basic Life2D model.\"\"\"\n",
        "\n",
        "    def __init__(self, rows, cols):\n",
        "        self.rows = rows\n",
        "        self.cols = cols\n",
        "        self.array = np.zeros((rows, cols), dtype=int)\n",
        "\n",
        "    def randomize_state(self, p):\n",
        "        \"\"\"Randomize the state of this GoL, where probability of a \"live\" cell is p.\"\"\"\n",
        "        self.array = np.random.choice([0, 1], size=(self.rows, self.cols), p=[1 - p, p])\n",
        "\n",
        "    def update(self):\n",
        "        \"\"\"Update the state of the GoL grid according to the rules.\"\"\"\n",
        "        kernel = np.array([[1, 1, 1],\n",
        "                           [1, 0, 1],\n",
        "                           [1, 1, 1]])\n",
        "        neighbor_count = convolve2d(self.array, kernel, mode='same', boundary='wrap')\n",
        "        self.array = np.where(np.logical_or(neighbor_count == 3, np.logical_and(self.array == 1, neighbor_count == 2)),\n",
        "                              1, 0)\n",
        "\n",
        "    def is_stable(self):\n",
        "        \"\"\"Check if the grid has stabilized.\"\"\"\n",
        "        return np.all(self.array == 0) or np.all(self.array == 1)\n",
        "\n",
        "    def load_pattern(self, x, y, pattern):\n",
        "        \"\"\"Load a pattern into the Life state array at position (x, y).\"\"\"\n",
        "        pattern_array = self.parse_pattern(pattern)\n",
        "        pattern_rows, pattern_cols = pattern_array.shape\n",
        "        self.array[x:x + pattern_rows, y:y + pattern_cols] = pattern_array\n",
        "\n",
        "    @staticmethod\n",
        "    def parse_pattern(pattern):\n",
        "        \"\"\"Parse the pattern string into a 2D array.\"\"\"\n",
        "        lines = pattern.strip().split('\\n')\n",
        "        rows = len(lines)\n",
        "        cols = max(len(line) for line in lines)\n",
        "        pattern_array = np.zeros((rows, cols), dtype=int)\n",
        "        for i, line in enumerate(lines):\n",
        "            for j, char in enumerate(line):\n",
        "                if char == '1':\n",
        "                    pattern_array[i, j] = 1\n",
        "        return pattern_array\n"
      ],
      "metadata": {
        "id": "DZS2Le5JZ7g6"
      },
      "execution_count": null,
      "outputs": []
    },
    {
      "cell_type": "code",
      "source": [
        "life = BetterLife2D(10, 10)\n",
        "life.load_pattern(2, 2, \"\"\"\n",
        "001\n",
        "011\n",
        "111\n",
        "\"\"\")\n",
        "print(life.array)\n"
      ],
      "metadata": {
        "id": "R5cGr99pZ2du",
        "outputId": "21a5bfcf-672b-4ae1-c72f-85c1b1363d36",
        "colab": {
          "base_uri": "https://localhost:8080/"
        }
      },
      "execution_count": null,
      "outputs": [
        {
          "output_type": "stream",
          "name": "stdout",
          "text": [
            "[[0 0 0 0 0 0 0 0 0 0]\n",
            " [0 0 0 0 0 0 0 0 0 0]\n",
            " [0 0 0 0 1 0 0 0 0 0]\n",
            " [0 0 0 1 1 0 0 0 0 0]\n",
            " [0 0 1 1 1 0 0 0 0 0]\n",
            " [0 0 0 0 0 0 0 0 0 0]\n",
            " [0 0 0 0 0 0 0 0 0 0]\n",
            " [0 0 0 0 0 0 0 0 0 0]\n",
            " [0 0 0 0 0 0 0 0 0 0]\n",
            " [0 0 0 0 0 0 0 0 0 0]]\n"
          ]
        }
      ]
    },
    {
      "cell_type": "markdown",
      "source": [
        "### Define some patterns\n",
        "User your nifty new function to define a few common, interesting patterns (e.g., from the book or other sources)"
      ],
      "metadata": {
        "collapsed": false,
        "pycharm": {
          "name": "#%% md\n"
        },
        "id": "882GUDpSclsK"
      }
    },
    {
      "cell_type": "markdown",
      "source": [
        " **This piece of code used to work perfectly and had the same output as the one below it. I tried to fix it with Chatgpt and it gave me the full long code. I will try to figure out how to fix the short code below to get my previous result. **"
      ],
      "metadata": {
        "id": "IRoFPwALdE7L"
      }
    },
    {
      "cell_type": "code",
      "source": [
        "# life = BetterLife2D(20, 20)\n",
        "# life.load_pattern(5, 5, patterns['Glider'])\n",
        "# life.load_pattern(10, 10, patterns['Lightweight Spaceship (LWSS)'])\n",
        "# life.load_pattern(0, 0, patterns['Beacon'])\n",
        "# print(life.array)\n"
      ],
      "metadata": {
        "id": "znU2J3O7auKM"
      },
      "execution_count": null,
      "outputs": []
    },
    {
      "cell_type": "code",
      "source": [
        "import numpy as np\n",
        "from scipy.signal import convolve2d\n",
        "\n",
        "class BetterLife2D:\n",
        "    \"\"\"Improvements on the basic Life2D model.\"\"\"\n",
        "\n",
        "    def __init__(self, rows, cols):\n",
        "        self.rows = rows\n",
        "        self.cols = cols\n",
        "        self.array = np.zeros((rows, cols), dtype=int)\n",
        "\n",
        "    def randomize_state(self, p):\n",
        "        \"\"\"Randomize the state of this GoL, where probability of a \"live\" cell is p.\"\"\"\n",
        "        self.array = np.random.choice([0, 1], size=(self.rows, self.cols), p=[1 - p, p])\n",
        "\n",
        "    def update(self):\n",
        "        \"\"\"Update the state of the GoL grid according to the rules.\"\"\"\n",
        "        kernel = np.array([[1, 1, 1],\n",
        "                           [1, 0, 1],\n",
        "                           [1, 1, 1]])\n",
        "        neighbor_count = convolve2d(self.array, kernel, mode='same', boundary='wrap')\n",
        "        self.array = np.where(np.logical_or(neighbor_count == 3, np.logical_and(self.array == 1, neighbor_count == 2)),\n",
        "                              1, 0)\n",
        "\n",
        "    def is_stable(self):\n",
        "        \"\"\"Check if the grid has stabilized.\"\"\"\n",
        "        return np.all(self.array == 0) or np.all(self.array == 1)\n",
        "\n",
        "    def load_pattern(self, x, y, pattern):\n",
        "        \"\"\"Load a pattern into the Life state array at position (x, y).\"\"\"\n",
        "        pattern_array = self.parse_pattern(pattern)\n",
        "        pattern_rows, pattern_cols = pattern_array.shape\n",
        "        self.array[x:x + pattern_rows, y:y + pattern_cols] = pattern_array\n",
        "\n",
        "    @staticmethod\n",
        "    def parse_pattern(pattern):\n",
        "        \"\"\"Parse the pattern string into a 2D array.\"\"\"\n",
        "        lines = pattern.strip().split('\\n')\n",
        "        rows = len(lines)\n",
        "        cols = max(len(line) for line in lines)\n",
        "        pattern_array = np.zeros((rows, cols), dtype=int)\n",
        "        for i, line in enumerate(lines):\n",
        "            for j, char in enumerate(line):\n",
        "                if char == '1':\n",
        "                    pattern_array[i, j] = 1\n",
        "        return pattern_array\n",
        "\n",
        "# Define patterns within the scope of BetterLife2D class\n",
        "glider = \"\"\"\n",
        "010\n",
        "001\n",
        "111\n",
        "\"\"\"\n",
        "\n",
        "lwss = \"\"\"\n",
        "0001\n",
        "1000\n",
        "1001\n",
        "1111\n",
        "\"\"\"\n",
        "\n",
        "beacon = \"\"\"\n",
        "11\n",
        "11\n",
        "00\n",
        "00\n",
        "\"\"\"\n",
        "\n",
        "# Define patterns dictionary\n",
        "patterns = {\n",
        "    'Glider': glider,\n",
        "    'Lightweight Spaceship (LWSS)': lwss,\n",
        "    'Beacon': beacon\n",
        "}\n",
        "\n",
        "# Usage example\n",
        "life = BetterLife2D(20, 20)\n",
        "life.load_pattern(5, 5, patterns['Glider'])\n",
        "life.load_pattern(10, 10, patterns['Lightweight Spaceship (LWSS)'])\n",
        "life.load_pattern(0, 0, patterns['Beacon'])\n",
        "print(life.array)\n"
      ],
      "metadata": {
        "colab": {
          "base_uri": "https://localhost:8080/"
        },
        "id": "SLG5CDpFdZ0A",
        "outputId": "bef83992-49e6-4227-9f5f-dc6da1ccc722"
      },
      "execution_count": null,
      "outputs": [
        {
          "output_type": "stream",
          "name": "stdout",
          "text": [
            "[[1 1 0 0 0 0 0 0 0 0 0 0 0 0 0 0 0 0 0 0]\n",
            " [1 1 0 0 0 0 0 0 0 0 0 0 0 0 0 0 0 0 0 0]\n",
            " [0 0 0 0 0 0 0 0 0 0 0 0 0 0 0 0 0 0 0 0]\n",
            " [0 0 0 0 0 0 0 0 0 0 0 0 0 0 0 0 0 0 0 0]\n",
            " [0 0 0 0 0 0 0 0 0 0 0 0 0 0 0 0 0 0 0 0]\n",
            " [0 0 0 0 0 0 1 0 0 0 0 0 0 0 0 0 0 0 0 0]\n",
            " [0 0 0 0 0 0 0 1 0 0 0 0 0 0 0 0 0 0 0 0]\n",
            " [0 0 0 0 0 1 1 1 0 0 0 0 0 0 0 0 0 0 0 0]\n",
            " [0 0 0 0 0 0 0 0 0 0 0 0 0 0 0 0 0 0 0 0]\n",
            " [0 0 0 0 0 0 0 0 0 0 0 0 0 0 0 0 0 0 0 0]\n",
            " [0 0 0 0 0 0 0 0 0 0 0 0 0 1 0 0 0 0 0 0]\n",
            " [0 0 0 0 0 0 0 0 0 0 1 0 0 0 0 0 0 0 0 0]\n",
            " [0 0 0 0 0 0 0 0 0 0 1 0 0 1 0 0 0 0 0 0]\n",
            " [0 0 0 0 0 0 0 0 0 0 1 1 1 1 0 0 0 0 0 0]\n",
            " [0 0 0 0 0 0 0 0 0 0 0 0 0 0 0 0 0 0 0 0]\n",
            " [0 0 0 0 0 0 0 0 0 0 0 0 0 0 0 0 0 0 0 0]\n",
            " [0 0 0 0 0 0 0 0 0 0 0 0 0 0 0 0 0 0 0 0]\n",
            " [0 0 0 0 0 0 0 0 0 0 0 0 0 0 0 0 0 0 0 0]\n",
            " [0 0 0 0 0 0 0 0 0 0 0 0 0 0 0 0 0 0 0 0]\n",
            " [0 0 0 0 0 0 0 0 0 0 0 0 0 0 0 0 0 0 0 0]]\n"
          ]
        }
      ]
    },
    {
      "cell_type": "markdown",
      "source": [
        "### Experiment\n",
        "Load up a BetterLife2D object with some patterns that interact in some interesting way.\n",
        "What can we learn from studying interactions like this?   Is anything here applicable to the real world?\n",
        "\n",
        "These patterns evolve according to Conway's Game of Life rules, revealing some real-world phenomena like population dynamics and chemical reactions. Studying cellular automata interactions could be useful in complex systems' behavior, self-organization in biological, social, and technological systems, as well as studying disease spread and atomic level behavior."
      ],
      "metadata": {
        "collapsed": false,
        "pycharm": {
          "name": "#%% md\n"
        },
        "id": "AwQxHbslclsL"
      }
    },
    {
      "cell_type": "code",
      "execution_count": null,
      "outputs": [
        {
          "output_type": "display_data",
          "data": {
            "text/plain": [
              "<Figure size 640x480 with 1 Axes>"
            ],
            "image/png": "[encoded data removed]"
          },
          "metadata": {}
        },
        {
          "output_type": "display_data",
          "data": {
            "text/plain": [
              "<Figure size 640x480 with 1 Axes>"
            ],
            "image/png": "[encoded data removed]"
          },
          "metadata": {}
        },
        {
          "output_type": "display_data",
          "data": {
            "text/plain": [
              "<Figure size 640x480 with 1 Axes>"
            ],
            "image/png": "[encoded data removed]"
          },
          "metadata": {}
        },
        {
          "output_type": "display_data",
          "data": {
            "text/plain": [
              "<Figure size 640x480 with 1 Axes>"
            ],
            "image/png": "[encoded data removed]"
          },
          "metadata": {}
        },
        {
          "output_type": "display_data",
          "data": {
            "text/plain": [
              "<Figure size 640x480 with 1 Axes>"
            ],
            "image/png": "[encoded data removed]"
          },
          "metadata": {}
        },
        {
          "output_type": "display_data",
          "data": {
            "text/plain": [
              "<Figure size 640x480 with 1 Axes>"
            ],
            "image/png": "[encoded data removed]"
          },
          "metadata": {}
        },
        {
          "output_type": "display_data",
          "data": {
            "text/plain": [
              "<Figure size 640x480 with 1 Axes>"
            ],
            "image/png": "[encoded data removed]"
          },
          "metadata": {}
        },
        {
          "output_type": "display_data",
          "data": {
            "text/plain": [
              "<Figure size 640x480 with 1 Axes>"
            ],
            "image/png": "[encoded data removed]"
          },
          "metadata": {}
        },
        {
          "output_type": "display_data",
          "data": {
            "text/plain": [
              "<Figure size 640x480 with 1 Axes>"
            ],
            "image/png": "[encoded data removed]"
          },
          "metadata": {}
        },
        {
          "output_type": "display_data",
          "data": {
            "text/plain": [
              "<Figure size 640x480 with 1 Axes>"
            ],
            "image/png": "[encoded data removed]"
          },
          "metadata": {}
        }
      ],
      "source": [
        "\n",
        "\n",
        "# Ex. 3 code for your experiment here\n",
        "import matplotlib.pyplot as plt\n",
        "\n",
        "# Define the size of the grid\n",
        "rows = 30\n",
        "cols = 30\n",
        "\n",
        "# Create a BetterLife2D object\n",
        "life = BetterLife2D(rows, cols)\n",
        "\n",
        "# Load patterns into the grid\n",
        "life.load_pattern(10, 10, \"\"\"\n",
        "00001\n",
        "00001\n",
        "00001\n",
        "00001\n",
        "00001\n",
        "\"\"\")\n",
        "life.load_pattern(15, 15, \"\"\"\n",
        "00010\n",
        "00010\n",
        "00010\n",
        "00010\n",
        "00010\n",
        "\"\"\")\n",
        "\n",
        "# Run the simulation for some time steps\n",
        "for _ in range(10):\n",
        "    plt.imshow(life.array, cmap='binary')\n",
        "    plt.show()\n",
        "    life.update()\n"
      ],
      "metadata": {
        "pycharm": {
          "name": "#%%\n"
        },
        "ExecuteTime": {
          "end_time": "2024-01-06T00:59:32.392005Z",
          "start_time": "2024-01-06T00:59:32.389848Z"
        },
        "id": "k8I06HVOclsL",
        "colab": {
          "base_uri": "https://localhost:8080/",
          "height": 1000
        },
        "outputId": "22b2fb1b-dd9a-4651-e9b5-da9a080fbe39"
      }
    }
  ],
  "metadata": {
    "kernelspec": {
      "display_name": "Python 3",
      "language": "python",
      "name": "python3"
    },
    "language_info": {
      "codemirror_mode": {
        "name": "ipython",
        "version": 2
      },
      "file_extension": ".py",
      "mimetype": "text/x-python",
      "name": "python",
      "nbconvert_exporter": "python",
      "pygments_lexer": "ipython2",
      "version": "2.7.6"
    },
    "colab": {
      "provenance": [],
      "include_colab_link": true
    }
  },
  "nbformat": 4,
  "nbformat_minor": 0
}