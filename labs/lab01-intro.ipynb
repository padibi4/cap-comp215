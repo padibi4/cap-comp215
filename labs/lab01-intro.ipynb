{
  "cells": [
    {
      "cell_type": "markdown",
      "metadata": {
        "collapsed": true,
        "pycharm": {
          "name": "#%% md\n"
        },
        "id": "UO4namhuBH3l"
      },
      "source": [
        "COMP 215 - LAB 1\n",
        "----------------\n",
        "#### Name:\n",
        "#### Date:\n",
        "\n",
        "This lab exercise is mostly to introduce some of the power in Jupyter Notebooks.\n",
        "Note that a Notebook is composed of \"cells\" - some are \"text\", like this one, while others are \"code\"\n",
        "\n",
        "We'll also review some basic data types (like `int` and `str`) and data structures (like `list` and `dict`)\n",
        "\n",
        "**New Python Concepts**:\n",
        "  * `datetime.date` objects represent a calendar date (these are very powerful)\n",
        "  * *list comprehension* provides a compact way to represent map and filter algorithms\n",
        "\n",
        "As will be usual, the fist code cell, below, simply imports all the modules we'll be using..."
      ]
    },
    {
      "cell_type": "code",
      "source": [
        "import datetime, json, requests\n",
        "import matplotlib.pyplot as plt\n",
        "import  matplotlib.dates as mdates\n",
        "from pprint import pprint    # Pretty Print - built-in python function to nicely format data structures"
      ],
      "metadata": {
        "pycharm": {
          "name": "#%%\n"
        },
        "id": "DqSJNdSdBH3n",
        "ExecuteTime": {
          "end_time": "2024-01-04T04:03:36.676604Z",
          "start_time": "2024-01-04T04:03:36.663232Z"
        }
      },
      "execution_count": 3,
      "outputs": []
    },
    {
      "cell_type": "markdown",
      "source": [
        "### API Query\n",
        "\n",
        "Now, let's fetch some Covid-19 daily case-count data from the Open Covid API:  https://opencovid.ca/api/\n",
        "\n",
        "Query:\n",
        "  - `stat=cases`        # the type of data to fetch\n",
        "  - `loc=BC`            # the location to fetch data for\n",
        "  - `after=2023-11-01`  # since the 1st of november (note date format:  yyyy-mm-dd)"
      ],
      "metadata": {
        "collapsed": false,
        "id": "0rnf67FTBH3p"
      }
    },
    {
      "cell_type": "code",
      "execution_count": 4,
      "outputs": [
        {
          "output_type": "stream",
          "name": "stdout",
          "text": [
            "Response data type: <class 'str'>\n"
          ]
        },
        {
          "output_type": "execute_result",
          "data": {
            "text/plain": [
              "'{\"data\":{\"cases\":[{\"name\":\"cases\",\"region\":\"BC\",\"date\":\"2023-11-01\",\"value\":410535,\"value_daily\":91},{\"name\":\"cases\",\"region\":\"BC\",\"date\":\"2023-11-02\",\"value\":410607,\"value_daily\":72},{\"name\":\"cases\",\"region\":\"BC\",\"date\":\"2023-11-03\",\"value\":410682,\"value_daily\":75},{\"name\":\"cases\",\"region\":\"BC\",\"date\":\"2023-11-04\",\"value\":410756,\"value_daily\":74},{\"name\":\"cases\",\"region\":\"BC\",\"date\":\"2023-11-05\",\"value\":410822,\"value_daily\":66},{\"name\":\"cases\",\"region\":\"BC\",\"date\":\"2023-11-06\",\"value\":410915,\"value_daily\":93},{\"name\":\"cases\",\"region\":\"BC\",\"date\":\"2023-11-07\",\"value\":410989,\"value_daily\":74},{\"name\":\"cases\",\"region\":\"BC\",\"date\":\"2023-11-08\",\"value\":411055,\"value_daily\":66},{\"name\":\"cases\",\"region\":\"BC\",\"date\":\"2023-11-09\",\"value\":411127,\"value_daily\":72},{\"name\":\"cases\",\"region\":\"BC\",\"date\":\"2023-11-10\",\"value\":411184,\"value_daily\":57},{\"name\":\"cases\",\"region\":\"BC\",\"date\":\"2023-11-11\",\"value\":411234,\"value_daily\":50},{\"name\":\"cases\",\"region\":\"BC\",\"date\":\"2023-11-12\",\"value\":411300,\"val'"
            ],
            "application/vnd.google.colaboratory.intrinsic+json": {
              "type": "string"
            }
          },
          "metadata": {},
          "execution_count": 4
        }
      ],
      "source": [
        "query = 'https://api.opencovid.ca/timeseries?stat=cases&loc=BC&after=2023-11-01'\n",
        "\n",
        "response = requests.request(\"GET\", query, headers={}, data={})\n",
        "print('Response data type:', type(response.text))\n",
        "response.text[:1000]"
      ],
      "metadata": {
        "pycharm": {
          "name": "#%%\n"
        },
        "id": "Al2T68b2BH3p",
        "outputId": "8ddc87d7-2b23-4cec-abef-0b3eec3fa1c4",
        "colab": {
          "base_uri": "https://localhost:8080/",
          "height": 224
        },
        "ExecuteTime": {
          "end_time": "2024-01-04T04:03:36.992622Z",
          "start_time": "2024-01-04T04:03:36.679149Z"
        }
      }
    },
    {
      "cell_type": "markdown",
      "source": [
        "Notice that the response looks like a dictionary, but is actually just a string of text (most data is exchanged on the web as plain text!).  This particular data format is called \"[JSON](https://en.wikipedia.org/wiki/JSON)\"\n",
        "\n",
        "The `json.loads` function \"parses\" such text and loads the data into a dictionary..."
      ],
      "metadata": {
        "collapsed": false,
        "pycharm": {
          "name": "#%% md\n"
        },
        "id": "np4HQTmABH3q"
      }
    },
    {
      "cell_type": "code",
      "execution_count": 5,
      "outputs": [
        {
          "output_type": "stream",
          "name": "stdout",
          "text": [
            "{'data': {'cases': [{'date': '2023-11-01',\n",
            "                     'name': 'cases',\n",
            "                     'region': 'BC',\n",
            "                     'value': 410535,\n",
            "                     'value_daily': 91},\n",
            "                    {'date': '2023-11-02',\n",
            "                     'name': 'cases',\n",
            "                     'region': 'BC',\n",
            "                     'value': 410607,\n",
            "                     'value_daily': 72},\n",
            "                    {'date': '2023-11-03',\n",
            "                     'name': 'cases',\n",
            "                     'region': 'BC',\n",
            "                     'value': 410682,\n",
            "                     'value_daily': 75},\n",
            "                    {'date': '2023-11-04',\n",
            "                     'name': 'cases',\n",
            "                     'region': 'BC',\n",
            "                     'value': 410756,\n",
            "                     'value_daily': 74},\n",
            "                    {'date': '2023-11-05',\n",
            "                     'name': 'cases',\n",
            "                     'region': 'BC',\n",
            "                     'value': 410822,\n",
            "                     'value_daily': 66},\n",
            "                    {'date': '2023-11-06',\n",
            "                     'name': 'cases',\n",
            "                     'region': 'BC',\n",
            "                     'value': 410915,\n",
            "                     'value_daily': 93},\n",
            "                    {'date': '2023-11-07',\n",
            "                     'name': 'cases',\n",
            "                     'region': 'BC',\n",
            "                     'value': 410989,\n",
            "                     'value_daily': 74},\n",
            "                    {'date': '2023-11-08',\n",
            "                     'name': 'cases',\n",
            "                     'region': 'BC',\n",
            "                     'value': 411055,\n",
            "                     'value_daily': 66},\n",
            "                    {'date': '2023-11-09',\n",
            "                     'name': 'cases',\n",
            "                     'region': 'BC',\n",
            "                     'value': 411127,\n",
            "                     'value_daily': 72},\n",
            "                    {'date': '2023-11-10',\n",
            "                     'name': 'cases',\n",
            "                     'region': 'BC',\n",
            "                     'value': 411184,\n",
            "                     'value_daily': 57},\n",
            "                    {'date': '2023-11-11',\n",
            "                     'name': 'cases',\n",
            "                     'region': 'BC',\n",
            "                     'value': 411234,\n",
            "                     'value_daily': 50},\n",
            "                    {'date': '2023-11-12',\n",
            "                     'name': 'cases',\n",
            "                     'region': 'BC',\n",
            "                     'value': 411300,\n",
            "                     'value_daily': 66},\n",
            "                    {'date': '2023-11-13',\n",
            "                     'name': 'cases',\n",
            "                     'region': 'BC',\n",
            "                     'value': 411363,\n",
            "                     'value_daily': 63},\n",
            "                    {'date': '2023-11-14',\n",
            "                     'name': 'cases',\n",
            "                     'region': 'BC',\n",
            "                     'value': 411408,\n",
            "                     'value_daily': 45},\n",
            "                    {'date': '2023-11-15',\n",
            "                     'name': 'cases',\n",
            "                     'region': 'BC',\n",
            "                     'value': 411453,\n",
            "                     'value_daily': 45},\n",
            "                    {'date': '2023-11-16',\n",
            "                     'name': 'cases',\n",
            "                     'region': 'BC',\n",
            "                     'value': 411504,\n",
            "                     'value_daily': 51},\n",
            "                    {'date': '2023-11-17',\n",
            "                     'name': 'cases',\n",
            "                     'region': 'BC',\n",
            "                     'value': 411556,\n",
            "                     'value_daily': 52},\n",
            "                    {'date': '2023-11-18',\n",
            "                     'name': 'cases',\n",
            "                     'region': 'BC',\n",
            "                     'value': 411597,\n",
            "                     'value_daily': 41},\n",
            "                    {'date': '2023-11-19',\n",
            "                     'name': 'cases',\n",
            "                     'region': 'BC',\n",
            "                     'value': 411639,\n",
            "                     'value_daily': 42},\n",
            "                    {'date': '2023-11-20',\n",
            "                     'name': 'cases',\n",
            "                     'region': 'BC',\n",
            "                     'value': 411702,\n",
            "                     'value_daily': 63},\n",
            "                    {'date': '2023-11-21',\n",
            "                     'name': 'cases',\n",
            "                     'region': 'BC',\n",
            "                     'value': 411769,\n",
            "                     'value_daily': 67},\n",
            "                    {'date': '2023-11-22',\n",
            "                     'name': 'cases',\n",
            "                     'region': 'BC',\n",
            "                     'value': 411831,\n",
            "                     'value_daily': 62},\n",
            "                    {'date': '2023-11-23',\n",
            "                     'name': 'cases',\n",
            "                     'region': 'BC',\n",
            "                     'value': 411882,\n",
            "                     'value_daily': 51},\n",
            "                    {'date': '2023-11-24',\n",
            "                     'name': 'cases',\n",
            "                     'region': 'BC',\n",
            "                     'value': 411933,\n",
            "                     'value_daily': 51},\n",
            "                    {'date': '2023-11-25',\n",
            "                     'name': 'cases',\n",
            "                     'region': 'BC',\n",
            "                     'value': 411979,\n",
            "                     'value_daily': 46},\n",
            "                    {'date': '2023-11-26',\n",
            "                     'name': 'cases',\n",
            "                     'region': 'BC',\n",
            "                     'value': 412028,\n",
            "                     'value_daily': 49},\n",
            "                    {'date': '2023-11-27',\n",
            "                     'name': 'cases',\n",
            "                     'region': 'BC',\n",
            "                     'value': 412087,\n",
            "                     'value_daily': 59},\n",
            "                    {'date': '2023-11-28',\n",
            "                     'name': 'cases',\n",
            "                     'region': 'BC',\n",
            "                     'value': 412146,\n",
            "                     'value_daily': 59},\n",
            "                    {'date': '2023-11-29',\n",
            "                     'name': 'cases',\n",
            "                     'region': 'BC',\n",
            "                     'value': 412184,\n",
            "                     'value_daily': 38},\n",
            "                    {'date': '2023-11-30',\n",
            "                     'name': 'cases',\n",
            "                     'region': 'BC',\n",
            "                     'value': 412226,\n",
            "                     'value_daily': 42},\n",
            "                    {'date': '2023-12-01',\n",
            "                     'name': 'cases',\n",
            "                     'region': 'BC',\n",
            "                     'value': 412280,\n",
            "                     'value_daily': 54},\n",
            "                    {'date': '2023-12-02',\n",
            "                     'name': 'cases',\n",
            "                     'region': 'BC',\n",
            "                     'value': 412334,\n",
            "                     'value_daily': 54},\n",
            "                    {'date': '2023-12-03',\n",
            "                     'name': 'cases',\n",
            "                     'region': 'BC',\n",
            "                     'value': 412388,\n",
            "                     'value_daily': 54},\n",
            "                    {'date': '2023-12-04',\n",
            "                     'name': 'cases',\n",
            "                     'region': 'BC',\n",
            "                     'value': 412451,\n",
            "                     'value_daily': 63},\n",
            "                    {'date': '2023-12-05',\n",
            "                     'name': 'cases',\n",
            "                     'region': 'BC',\n",
            "                     'value': 412500,\n",
            "                     'value_daily': 49},\n",
            "                    {'date': '2023-12-06',\n",
            "                     'name': 'cases',\n",
            "                     'region': 'BC',\n",
            "                     'value': 412580,\n",
            "                     'value_daily': 80},\n",
            "                    {'date': '2023-12-07',\n",
            "                     'name': 'cases',\n",
            "                     'region': 'BC',\n",
            "                     'value': 412654,\n",
            "                     'value_daily': 74},\n",
            "                    {'date': '2023-12-08',\n",
            "                     'name': 'cases',\n",
            "                     'region': 'BC',\n",
            "                     'value': 412703,\n",
            "                     'value_daily': 49},\n",
            "                    {'date': '2023-12-09',\n",
            "                     'name': 'cases',\n",
            "                     'region': 'BC',\n",
            "                     'value': 412753,\n",
            "                     'value_daily': 50},\n",
            "                    {'date': '2023-12-10',\n",
            "                     'name': 'cases',\n",
            "                     'region': 'BC',\n",
            "                     'value': 412796,\n",
            "                     'value_daily': 43},\n",
            "                    {'date': '2023-12-11',\n",
            "                     'name': 'cases',\n",
            "                     'region': 'BC',\n",
            "                     'value': 412847,\n",
            "                     'value_daily': 51},\n",
            "                    {'date': '2023-12-12',\n",
            "                     'name': 'cases',\n",
            "                     'region': 'BC',\n",
            "                     'value': 412907,\n",
            "                     'value_daily': 60},\n",
            "                    {'date': '2023-12-13',\n",
            "                     'name': 'cases',\n",
            "                     'region': 'BC',\n",
            "                     'value': 412958,\n",
            "                     'value_daily': 51},\n",
            "                    {'date': '2023-12-14',\n",
            "                     'name': 'cases',\n",
            "                     'region': 'BC',\n",
            "                     'value': 413011,\n",
            "                     'value_daily': 53},\n",
            "                    {'date': '2023-12-15',\n",
            "                     'name': 'cases',\n",
            "                     'region': 'BC',\n",
            "                     'value': 413064,\n",
            "                     'value_daily': 53},\n",
            "                    {'date': '2023-12-16',\n",
            "                     'name': 'cases',\n",
            "                     'region': 'BC',\n",
            "                     'value': 413116,\n",
            "                     'value_daily': 52},\n",
            "                    {'date': '2023-12-17',\n",
            "                     'name': 'cases',\n",
            "                     'region': 'BC',\n",
            "                     'value': 413167,\n",
            "                     'value_daily': 51},\n",
            "                    {'date': '2023-12-18',\n",
            "                     'name': 'cases',\n",
            "                     'region': 'BC',\n",
            "                     'value': 413213,\n",
            "                     'value_daily': 46},\n",
            "                    {'date': '2023-12-19',\n",
            "                     'name': 'cases',\n",
            "                     'region': 'BC',\n",
            "                     'value': 413270,\n",
            "                     'value_daily': 57},\n",
            "                    {'date': '2023-12-20',\n",
            "                     'name': 'cases',\n",
            "                     'region': 'BC',\n",
            "                     'value': 413336,\n",
            "                     'value_daily': 66},\n",
            "                    {'date': '2023-12-21',\n",
            "                     'name': 'cases',\n",
            "                     'region': 'BC',\n",
            "                     'value': 413397,\n",
            "                     'value_daily': 61},\n",
            "                    {'date': '2023-12-22',\n",
            "                     'name': 'cases',\n",
            "                     'region': 'BC',\n",
            "                     'value': 413450,\n",
            "                     'value_daily': 53},\n",
            "                    {'date': '2023-12-23',\n",
            "                     'name': 'cases',\n",
            "                     'region': 'BC',\n",
            "                     'value': 413499,\n",
            "                     'value_daily': 49},\n",
            "                    {'date': '2023-12-24',\n",
            "                     'name': 'cases',\n",
            "                     'region': 'BC',\n",
            "                     'value': 413556,\n",
            "                     'value_daily': 57},\n",
            "                    {'date': '2023-12-25',\n",
            "                     'name': 'cases',\n",
            "                     'region': 'BC',\n",
            "                     'value': 413601,\n",
            "                     'value_daily': 45},\n",
            "                    {'date': '2023-12-26',\n",
            "                     'name': 'cases',\n",
            "                     'region': 'BC',\n",
            "                     'value': 413654,\n",
            "                     'value_daily': 53},\n",
            "                    {'date': '2023-12-27',\n",
            "                     'name': 'cases',\n",
            "                     'region': 'BC',\n",
            "                     'value': 413734,\n",
            "                     'value_daily': 80},\n",
            "                    {'date': '2023-12-28',\n",
            "                     'name': 'cases',\n",
            "                     'region': 'BC',\n",
            "                     'value': 413810,\n",
            "                     'value_daily': 76},\n",
            "                    {'date': '2023-12-29',\n",
            "                     'name': 'cases',\n",
            "                     'region': 'BC',\n",
            "                     'value': 413878,\n",
            "                     'value_daily': 68},\n",
            "                    {'date': '2023-12-30',\n",
            "                     'name': 'cases',\n",
            "                     'region': 'BC',\n",
            "                     'value': 413930,\n",
            "                     'value_daily': 52}]},\n",
            " 'version': '2024-01-12 12:08 EST'}\n"
          ]
        }
      ],
      "source": [
        "result = json.loads(response.text)\n",
        "pprint(result)   # pretty-print the entire data structure we got back..."
      ],
      "metadata": {
        "pycharm": {
          "name": "#%%\n"
        },
        "id": "M5wV1C_0BH3q",
        "ExecuteTime": {
          "end_time": "2024-01-04T04:03:36.997250Z",
          "start_time": "2024-01-04T04:03:36.995232Z"
        },
        "outputId": "88e07edc-1b2c-4b8b-9111-9f28a765961c",
        "colab": {
          "base_uri": "https://localhost:8080/"
        }
      }
    },
    {
      "cell_type": "markdown",
      "source": [
        "### Extract data items from a list of dictionaries\n",
        "Next we use \"list comprehension\" to extract the list of dates and associated cases into \"parallel lists\"\n",
        "\n",
        "Notice how we \"parse\" the date strings, using `strptime`, into a real date objects so they are easier to work with (format: yyyy-mm-dd)"
      ],
      "metadata": {
        "collapsed": false,
        "pycharm": {
          "name": "#%% md\n"
        },
        "id": "dAXX9kuZBH3r"
      }
    },
    {
      "cell_type": "code",
      "execution_count": 6,
      "outputs": [
        {
          "output_type": "stream",
          "name": "stdout",
          "text": [
            "Dates: ['2023-11-01', '2023-11-02', '2023-11-03', '2023-11-04', '2023-11-05', '2023-11-06', '2023-11-07', '2023-11-08', '2023-11-09', '2023-11-10']\n",
            "Cases: [91, 72, 75, 74, 66, 93, 74, 66, 72, 57]\n",
            "Zipped: [('2023-11-01', 91), ('2023-11-02', 72), ('2023-11-03', 75), ('2023-11-04', 74), ('2023-11-05', 66), ('2023-11-06', 93), ('2023-11-07', 74), ('2023-11-08', 66), ('2023-11-09', 72), ('2023-11-10', 57)]\n"
          ]
        }
      ],
      "source": [
        "cases = result['data']['cases']\n",
        "case_dates = [daily['date'] for daily in cases]     # List Comprehension #1: extract the case date strings\n",
        "n_cases = [daily['value_daily'] for daily in cases] # List Comprehension #2:  extract the case counts\n",
        "\n",
        "print('Dates:', case_dates[:10])      # do you recall the \"slice\" operation?  If not, look it up in the ThinkCsPy textbook!\n",
        "print('Cases:', n_cases[:10])\n",
        "print('Zipped:', list(zip(case_dates[:10], n_cases[:10])))  # zip is a very handy function to \"zip\" 2 lists together like a zipper..."
      ],
      "metadata": {
        "pycharm": {
          "name": "#%%\n"
        },
        "id": "JOFe4vNCBH3s",
        "outputId": "787de34d-417a-4e27-8641-4537a1f25128",
        "colab": {
          "base_uri": "https://localhost:8080/"
        },
        "ExecuteTime": {
          "end_time": "2024-01-04T04:03:37.001082Z",
          "start_time": "2024-01-04T04:03:36.999014Z"
        }
      }
    },
    {
      "cell_type": "markdown",
      "source": [
        "### Datetime.date\n",
        "Working with date stings is a pain.  So many formats!  Even within Canada, you might see:\n",
        "\"Jan. 9, 2023\" or \"09-01-2023\" or \"2023-01-09\" or ....\n",
        "Imagine trying to do a calculation like \"how many days between these 2 dates\"!!\n",
        "The build-in `datetime` package makes working with dates much easier.\n",
        "  * step 1: \"parse\" the date string data (`strptime` ==  \"string-parse-datetime object\")\n",
        "  * step 2: get the date part (i.e., without the time)"
      ],
      "metadata": {
        "collapsed": false,
        "pycharm": {
          "name": "#%% md\n"
        },
        "id": "DBvXJPo-M_yQ"
      }
    },
    {
      "cell_type": "code",
      "execution_count": 7,
      "outputs": [
        {
          "output_type": "execute_result",
          "data": {
            "text/plain": [
              "[datetime.date(2023, 11, 1),\n",
              " datetime.date(2023, 11, 2),\n",
              " datetime.date(2023, 11, 3),\n",
              " datetime.date(2023, 11, 4),\n",
              " datetime.date(2023, 11, 5),\n",
              " datetime.date(2023, 11, 6),\n",
              " datetime.date(2023, 11, 7),\n",
              " datetime.date(2023, 11, 8),\n",
              " datetime.date(2023, 11, 9),\n",
              " datetime.date(2023, 11, 10)]"
            ]
          },
          "metadata": {},
          "execution_count": 7
        }
      ],
      "source": [
        "# parse a datetime object from a string by supplying the correct \"format\" string.\n",
        "datetime_objects = [datetime.datetime.strptime(date, '%Y-%m-%d') for date in case_dates]  # List Comprehension #3\n",
        "\n",
        "# but we only need the \"date\" part...\n",
        "dates = [dt.date() for dt in datetime_objects]\n",
        "dates[:10]"
      ],
      "metadata": {
        "pycharm": {
          "name": "#%%\n"
        },
        "ExecuteTime": {
          "end_time": "2024-01-04T04:03:37.004845Z",
          "start_time": "2024-01-04T04:03:37.002765Z"
        },
        "id": "biFoQkvRM_yR",
        "outputId": "293c930b-0215-454a-988f-5eb8c70da60b",
        "colab": {
          "base_uri": "https://localhost:8080/"
        }
      }
    },
    {
      "cell_type": "markdown",
      "source": [
        "## Exercise 1\n",
        "\n",
        "In the code cell below, re-write each of the 3 \"List Comprehensions\" in the code cells above as a loop so you understand how they work.\n",
        "\n",
        "Notice that a \"list comprehension\" is a compact way to write a \"list accumulator\" algorithm (and more efficient too!)"
      ],
      "metadata": {
        "collapsed": false,
        "pycharm": {
          "name": "#%% md\n"
        },
        "id": "koVKiju9BH3s"
      }
    },
    {
      "cell_type": "code",
      "execution_count": null,
      "outputs": [],
      "source": [
        "# Ex. 1 your code here\n"
      ],
      "metadata": {
        "pycharm": {
          "name": "#%%\n"
        },
        "id": "aa5xLcWEBH3t",
        "ExecuteTime": {
          "end_time": "2024-01-04T04:03:37.008468Z",
          "start_time": "2024-01-04T04:03:37.005626Z"
        }
      }
    },
    {
      "cell_type": "markdown",
      "source": [
        "### Generating a plot\n",
        "\n",
        "Finally, we'll plot the (dates,cases) data as a nice x-y line graph.\n",
        "\n",
        "The code to format the x-axis labels is taken from https://matplotlib.org/stable/gallery/ticks/date_concise_formatter.html"
      ],
      "metadata": {
        "collapsed": false,
        "id": "2ow28BuTBH3u"
      }
    },
    {
      "cell_type": "code",
      "execution_count": 1,
      "outputs": [
        {
          "output_type": "error",
          "ename": "NameError",
          "evalue": "name 'plt' is not defined",
          "traceback": [
            "\u001b[0;31m---------------------------------------------------------------------------\u001b[0m",
            "\u001b[0;31mNameError\u001b[0m                                 Traceback (most recent call last)",
            "\u001b[0;32m<ipython-input-1-6a55a480a7ed>\u001b[0m in \u001b[0;36m<cell line: 8>\u001b[0;34m()\u001b[0m\n\u001b[1;32m      6\u001b[0m   \u001b[0max\u001b[0m\u001b[0;34m.\u001b[0m\u001b[0mxaxis\u001b[0m\u001b[0;34m.\u001b[0m\u001b[0mset_major_formatter\u001b[0m\u001b[0;34m(\u001b[0m\u001b[0mformatter\u001b[0m\u001b[0;34m)\u001b[0m\u001b[0;34m\u001b[0m\u001b[0;34m\u001b[0m\u001b[0m\n\u001b[1;32m      7\u001b[0m \u001b[0;34m\u001b[0m\u001b[0m\n\u001b[0;32m----> 8\u001b[0;31m \u001b[0mfig\u001b[0m\u001b[0;34m,\u001b[0m \u001b[0max\u001b[0m \u001b[0;34m=\u001b[0m \u001b[0mplt\u001b[0m\u001b[0;34m.\u001b[0m\u001b[0msubplots\u001b[0m\u001b[0;34m(\u001b[0m\u001b[0;34m)\u001b[0m\u001b[0;34m\u001b[0m\u001b[0;34m\u001b[0m\u001b[0m\n\u001b[0m\u001b[1;32m      9\u001b[0m \u001b[0mformat_date_axis\u001b[0m\u001b[0;34m(\u001b[0m\u001b[0max\u001b[0m\u001b[0;34m)\u001b[0m\u001b[0;34m\u001b[0m\u001b[0;34m\u001b[0m\u001b[0m\n\u001b[1;32m     10\u001b[0m \u001b[0max\u001b[0m\u001b[0;34m.\u001b[0m\u001b[0mplot\u001b[0m\u001b[0;34m(\u001b[0m\u001b[0mdates\u001b[0m\u001b[0;34m,\u001b[0m \u001b[0mn_cases\u001b[0m\u001b[0;34m,\u001b[0m \u001b[0mlabel\u001b[0m\u001b[0;34m=\u001b[0m\u001b[0;34m'Daily Cases'\u001b[0m\u001b[0;34m)\u001b[0m  \u001b[0;31m# Plot some data on the axes.\u001b[0m\u001b[0;34m\u001b[0m\u001b[0;34m\u001b[0m\u001b[0m\n",
            "\u001b[0;31mNameError\u001b[0m: name 'plt' is not defined"
          ]
        }
      ],
      "source": [
        "def format_date_axis(ax):\n",
        "  \"\"\" format the dates shown on the x-axis of given axes, ax  \"\"\"\n",
        "  locator = mdates.AutoDateLocator(minticks=10, maxticks=20)\n",
        "  formatter = mdates.ConciseDateFormatter(locator)\n",
        "  ax.xaxis.set_major_locator(locator)\n",
        "  ax.xaxis.set_major_formatter(formatter)\n",
        "\n",
        "fig, ax = plt.subplots()\n",
        "format_date_axis(ax)\n",
        "ax.plot(dates, n_cases, label='Daily Cases')  # Plot some data on the axes.\n",
        "ax.set(\n",
        "  title=\"Covid-19 case counts for BC\",  # Add a title to the plot.\n",
        "  xlabel='Date',                        # Add a label to X axes.\n",
        "  ylabel='confirmed cases'             # Add a label to Y axes.\n",
        ")\n",
        "ax.legend();"
      ],
      "metadata": {
        "pycharm": {
          "name": "#%%\n"
        },
        "id": "FgwPH8mTBH3v",
        "outputId": "4de35b49-6120-4383-f383-55a21ab76e15",
        "colab": {
          "base_uri": "https://localhost:8080/",
          "height": 242
        },
        "ExecuteTime": {
          "end_time": "2024-01-04T04:03:37.124520Z",
          "start_time": "2024-01-04T04:03:37.014485Z"
        }
      }
    },
    {
      "cell_type": "markdown",
      "source": [
        "## Exercise 2\n",
        "\n",
        "Repeat the analysis above, but this time only for Vancouver Coastal Health Region.\n",
        "\n",
        "* Make a copy of just the relevant parts of the code above, leaving out all the explanations and extra data dumps.\n",
        "* You can get the ***hruid*** location code for each health region here:  https://github.com/ccodwg/CovidTimelineCanada/blob/main/geo/hr.csv\n",
        "* Generalize this code a little to make it easier to repeat the analysis for different locations.  \n",
        "  If you get that working, also make it easy to run the analysis for different dates?\n"
      ],
      "metadata": {
        "collapsed": false,
        "id": "vKVwcn1SM_yV"
      }
    },
    {
      "cell_type": "code",
      "execution_count": null,
      "outputs": [],
      "source": [
        "# Ex. 2 your code here"
      ],
      "metadata": {
        "pycharm": {
          "name": "#%%\n"
        },
        "ExecuteTime": {
          "end_time": "2024-01-04T04:03:37.126265Z",
          "start_time": "2024-01-04T04:03:37.123730Z"
        },
        "id": "pYp9VFoxM_yW"
      }
    },
    {
      "cell_type": "markdown",
      "source": [
        "## Challenge Exercise - Take your skills to the next level...\n",
        "\n",
        "## Exercise 3\n",
        "\n",
        "Notice that the data plot looks quite erratic.  These swings most likely represent artifacts attributable to the reporting process rather than actual changes in infection rates.\n",
        "\n",
        " * One way to fix this is is to \"smooth\" the date with a \"7-day rolling average\".\n",
        "Each day, we take the average of the previous 7 days cases.\n",
        " * Add new code cell below, compute the 7-day rolling average for each day from the cases list.\n",
        " * Create a plot to display the rolling average data and compare your plot with the one produced above.\n",
        "\n",
        " Hints: you are free to do this however you like, but a quite elegant solution uses list comprehension, range, and slices"
      ],
      "metadata": {
        "collapsed": false,
        "id": "qqeTORnvBH3v"
      }
    },
    {
      "cell_type": "code",
      "execution_count": null,
      "outputs": [],
      "source": [
        "# Ex. 3 (challenge) your code here"
      ],
      "metadata": {
        "ExecuteTime": {
          "end_time": "2024-01-04T04:03:37.128250Z",
          "start_time": "2024-01-04T04:03:37.126143Z"
        },
        "id": "1e2wxppXM_yY"
      }
    }
  ],
  "metadata": {
    "kernelspec": {
      "display_name": "Python 3",
      "language": "python",
      "name": "python3"
    },
    "language_info": {
      "codemirror_mode": {
        "name": "ipython",
        "version": 2
      },
      "file_extension": ".py",
      "mimetype": "text/x-python",
      "name": "python",
      "nbconvert_exporter": "python",
      "pygments_lexer": "ipython2",
      "version": "2.7.6"
    },
    "colab": {
      "name": "lab1.ipynb",
      "provenance": []
    }
  },
  "nbformat": 4,
  "nbformat_minor": 0
}