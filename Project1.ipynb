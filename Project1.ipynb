{
  "nbformat": 4,
  "nbformat_minor": 0,
  "metadata": {
    "colab": {
      "provenance": [],
      "authorship_tag": "ABX9TyNk0vKdt7OKaKB2ne65afge",
      "include_colab_link": true
    },
    "kernelspec": {
      "name": "python3",
      "display_name": "Python 3"
    },
    "language_info": {
      "name": "python"
    }
  },
  "cells": [
    {
      "cell_type": "markdown",
      "metadata": {
        "id": "view-in-github",
        "colab_type": "text"
      },
      "source": [
        "<a href=\"https://colab.research.google.com/github/padibi4/cap-comp215/blob/main/Project1.ipynb\" target=\"_parent\"><img src=\"https://colab.research.google.com/assets/colab-badge.svg\" alt=\"Open In Colab\"/></a>"
      ]
    },
    {
      "cell_type": "code",
      "source": [
        "import networkx as nx\n",
        "import random\n",
        "\n",
        "# Define the items for each category\n",
        "shoes_items = {'Male Adult': ['Nike', 'Adidas', 'Puma', 'Browns'],\n",
        "               'Female Adult': ['Nike', 'Adidas', 'Puma', 'Browns'],\n",
        "               'Male Kid': ['FootLocker', 'Sketchers'],\n",
        "               'Female Kid': ['FootLocker', 'Sketchers']}\n",
        "clothing_items = {'Male Adult': ['Lululemon Men', 'OVO', 'Zara Men'],\n",
        "                  'Female Adult': ['Lululemon Women', 'Aritzia', 'Zara Women'],\n",
        "                  'Male Kid': ['OVO', 'Zara Kids'],\n",
        "                  'Female Kid': ['Zara Kids', 'Aritzia']}\n",
        "fragrances_items = {'Male Adult': ['Chanel', 'Dior', 'YSL', 'Gucci'],\n",
        "                    'Female Adult': ['Sephora', 'Chanel', 'Dior', 'YSL', 'Gucci'],\n",
        "                    'Male Kid': ['Bath and Body Works'],\n",
        "                    'Female Kid': ['Bath and Body Works']}\n",
        "\n",
        "# Create a directed graph\n",
        "G = nx.DiGraph()\n",
        "\n",
        "# Add nodes for factors\n",
        "G.add_nodes_from(['Gender', 'Age', 'Category'])\n",
        "G.add_nodes_from(['Male', 'Female'])\n",
        "G.add_nodes_from(['Adult', 'Kid'])\n",
        "\n",
        "# Add nodes for items and edges connecting items to corresponding factors\n",
        "for gender_age, items in shoes_items.items():\n",
        "    for item in items:\n",
        "        G.add_node(item, Gender=gender_age.split()[0], Age=gender_age.split()[1], Category='Shoes')\n",
        "        G.add_edge('Gender', item)\n",
        "        G.add_edge('Age', item)\n",
        "        G.add_edge('Category', item)\n",
        "\n",
        "for gender_age, items in clothing_items.items():\n",
        "    for item in items:\n",
        "        G.add_node(item, Gender=gender_age.split()[0], Age=gender_age.split()[1], Category='Clothing')\n",
        "        G.add_edge('Gender', item)\n",
        "        G.add_edge('Age', item)\n",
        "        G.add_edge('Category', item)\n",
        "\n",
        "for gender_age, items in fragrances_items.items():\n",
        "    for item in items:\n",
        "        G.add_node(item, Gender=gender_age.split()[0], Age=gender_age.split()[1], Category='Fragrances')\n",
        "        G.add_edge('Gender', item)\n",
        "        G.add_edge('Age', item)\n",
        "        G.add_edge('Category', item)\n",
        "\n",
        "# Function to select an item based on preferences\n",
        "def select_item(gender, age, category):\n",
        "    eligible_items = [item for item in G.nodes if G.nodes[item].get('Category') == category and G.nodes[item].get('Gender') == gender and G.nodes[item].get('Age') == age]\n",
        "    if eligible_items:\n",
        "        return random.choice(eligible_items)\n",
        "    else:\n",
        "        return \"No matching items found for the given preferences.\"\n",
        "\n",
        "# Function to generate random preferences\n",
        "def generate_random_preferences(num_samples):\n",
        "    preferences = []\n",
        "    genders = ['Male', 'Female']\n",
        "    ages = ['Adult', 'Kid']\n",
        "    categories = ['Shoes', 'Clothing', 'Fragrances']\n",
        "    for _ in range(num_samples):\n",
        "        gender = random.choice(genders)\n",
        "        age = random.choice(ages)\n",
        "        category = random.choice(categories)\n",
        "        preferences.append((gender, age, category))\n",
        "    return preferences\n",
        "\n",
        "# Example usage\n",
        "num_samples = 5\n",
        "random_preferences = generate_random_preferences(num_samples)\n",
        "for i, (gender, age, category) in enumerate(random_preferences, 1):\n",
        "    selected_item = select_item(gender, age, category)\n",
        "    print(f\"Sample {i}: Gender: {gender}, Age: {age}, Category: {category}, Selected Item: {selected_item}\")\n"
      ],
      "metadata": {
        "colab": {
          "base_uri": "https://localhost:8080/"
        },
        "id": "xPLQFuDrkaX9",
        "outputId": "0f4f9ae3-6939-4ecd-c256-150ba93f2d6b"
      },
      "execution_count": null,
      "outputs": [
        {
          "output_type": "stream",
          "name": "stdout",
          "text": [
            "Sample 1: Gender: Male, Age: Kid, Category: Clothing, Selected Item: OVO\n",
            "Sample 2: Gender: Female, Age: Adult, Category: Fragrances, Selected Item: YSL\n",
            "Sample 3: Gender: Male, Age: Adult, Category: Clothing, Selected Item: Zara Men\n",
            "Sample 4: Gender: Female, Age: Kid, Category: Fragrances, Selected Item: Bath and Body Works\n",
            "Sample 5: Gender: Male, Age: Adult, Category: Shoes, Selected Item: No matching items found for the given preferences.\n"
          ]
        }
      ]
    },
    {
      "cell_type": "markdown",
      "source": [],
      "metadata": {
        "id": "h5CdsdsRlVZM"
      }
    }
  ]
}