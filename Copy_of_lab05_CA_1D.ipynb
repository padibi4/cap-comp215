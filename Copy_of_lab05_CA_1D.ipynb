{
  "cells": [
    {
      "cell_type": "markdown",
      "metadata": {
        "id": "view-in-github",
        "colab_type": "text"
      },
      "source": [
        "<a href=\"https://colab.research.google.com/github/padibi4/cap-comp215/blob/main/Copy_of_lab05_CA_1D.ipynb\" target=\"_parent\"><img src=\"https://colab.research.google.com/assets/colab-badge.svg\" alt=\"Open In Colab\"/></a>"
      ]
    },
    {
      "cell_type": "markdown",
      "metadata": {
        "collapsed": true,
        "pycharm": {
          "name": "#%% md\n"
        },
        "id": "FhqPn3I9dff_"
      },
      "source": [
        "COMP 215 - LAB 5 (Elementary Cellular Automata)\n",
        "-----------------------------------------------\n",
        "#### Name:\n",
        "#### Date:\n",
        "\n",
        "This lab exercise is an introduction to the elementary [Cellular Automata](https://en.wikipedia.org/wiki/Elementary_cellular_automaton) studied by [Stephen Wolfram](https://en.wikipedia.org/wiki/Stephen_Wolfram#Complex_systems_and_cellular_automata).\n",
        "\n",
        "**New Python concepts**:\n",
        "  * **[NumPy](https://numpy.org)** is an open-source scientific computing package.  We will be using numpy for the remainder of the term.\n",
        "  * 1D and 2D [array](https://numpy.org/doc/stable/reference/generated/numpy.array.html) -  a rectangular grid with efficient matrix operations.\n",
        "\n",
        "**New Computation concepts**:\n",
        "  * **bit sequence** (a.k.a. binary number) - using a sequence of 0's and 1's to efficiently represent a data structure and processes.\n",
        "\n",
        "**Credits**:\n",
        "    Code examples based on [Think Complexity, 2nd edition](https://thinkcomplex.com).\n",
        "    Copyright 2016 Allen Downey, [MIT License](http://opensource.org/licenses/MIT)\n",
        "\n",
        "As usual, the first code cell simply imports all the modules we'll be using..."
      ]
    },
    {
      "cell_type": "code",
      "execution_count": 1,
      "outputs": [],
      "source": [
        "%matplotlib inline\n",
        "\n",
        "import matplotlib.pyplot as plt\n",
        "import numpy as np"
      ],
      "metadata": {
        "pycharm": {
          "name": "#%%\n"
        },
        "ExecuteTime": {
          "end_time": "2024-01-03T01:08:15.688738Z",
          "start_time": "2024-01-03T01:08:15.351290Z"
        },
        "id": "RpprEgXPdfgB"
      }
    },
    {
      "cell_type": "markdown",
      "source": [
        "## CA Fundamentals\n",
        "Both the textbook and our week5 notebook develop some fundamental operations for simulating Elementary CA.\n",
        "Some of the code developed in class is reproduced here without deriving all the ideas - review `week05` notebook for the full story.\n",
        "The sliding dot product algorithm in `rule_indexes` is implemented with [numpy.correlate](https://numpy.org/doc/stable/reference/generated/numpy.correlate.html).  It's behaviour is identical to the derivation from class.\n",
        "\n",
        "#### Notes\n",
        "* we use `np.pad(array, 1, mode='wrap')` to pad state vector with 1 extra value at both ends, equal to the last value at the opposing end of the vector.  This strategy avoids [edge effects](https://en.wikipedia.org/wiki/Boundary_problem_(spatial_analysis)#Types_and_examples).\n",
        "* since the rule is an `np.array`, we use \"vector indexing\" here to index a whole row at once:  `next_row=rule[indexes]`  See `foundations/numpy_1D_arrays` for details.\n"
      ],
      "metadata": {
        "collapsed": false,
        "pycharm": {
          "name": "#%% md\n"
        },
        "id": "fNUiVINodfgC"
      }
    },
    {
      "cell_type": "code",
      "execution_count": 2,
      "outputs": [
        {
          "output_type": "display_data",
          "data": {
            "text/plain": [
              "<Figure size 640x480 with 1 Axes>"
            ],
            "image/png": "[encoded data removed]"
          },
          "metadata": {}
        }
      ],
      "source": [
        "POWERS_OF_2 = np.array((4, 2, 1))\n",
        "\n",
        "def rule_indexes(state):\n",
        "    \"\"\" Return vector of rule indexes - one index for each 3-cell neighbourhood in the CA state vector. \"\"\"\n",
        "    # numpy's version of the \"sliding dot product\" algorithm;  \"pad\" ends of state array with extra 0 cell to mitigate edge effects\n",
        "    return np.correlate(np.pad(state, 1, mode='constant'), POWERS_OF_2, mode='valid')\n",
        "\n",
        "assert all( rule_indexes(np.array([1,1,0,0,1,0,0,0])) == [3, 6, 4, 1, 2, 4, 0, 0] )\n",
        "\n",
        "\n",
        "def transition(state, rule):\n",
        "    \"\"\" Return the vector resulting from a transition of given CA state under the given 8-bit rule \"\"\"\n",
        "    indexes = rule_indexes(state)\n",
        "    return np.array(rule[indexes])  # \"vector indexing\" replaces: [rule[i] for i in indexes]\n",
        "\n",
        "rule_110 = (0,1,1,0,1,1,1,0)[::-1]\n",
        "assert all( transition(np.array((0,0,1,1,1,0,0,0,1,1,0)), np.array(rule_110)) == (0,1,1,0,1,0,0,1,1,1,0))\n",
        "\n",
        "\n",
        "# This algorithm is from the textbook - it uses numpy to do a decimal to binary conversion.\n",
        "def get_lookup_table(rule):\n",
        "    \"\"\"\n",
        "    Return the 8-bit transition vector for the given elementary CA rule number.\n",
        "    rule: int 0-255\n",
        "    returns: transition lookup table - a 8 element vector of 0s and 1s\n",
        "    \"\"\"\n",
        "    rule = np.array([rule], dtype=np.uint8)\n",
        "    return np.unpackbits(rule)[::-1]\n",
        "\n",
        "assert np.all( get_lookup_table(110) == rule_110 )\n",
        "\n",
        "\n",
        "def single_centre_array(n_cells):\n",
        "    \"\"\" Return a binary 1D array with given number of cells, all zeros except a single 1 in the centre cell \"\"\"\n",
        "    array = np.zeros(n_cells, dtype=np.uint8)\n",
        "    array[n_cells//2] = 1\n",
        "    return array\n",
        "\n",
        "assert np.all( single_centre_array(7) == (0,0,0,1,0,0,0) )\n",
        "\n",
        "\n",
        "def simulate_ca(n_cells, n_steps, rule):\n",
        "    \"\"\" Generate a CA with given number of cells, plot progression of rule for given number of time steps \"\"\"\n",
        "    start_state = single_centre_array(n_cells)\n",
        "    # create a stack of \"empty\" state vectors, one for each time step\n",
        "    ca_timesteps = np.vstack([start_state, np.zeros((n_steps, len(start_state)), dtype=np.uint8)])\n",
        "    # run the simulation\n",
        "    for t in range(1, n_steps):\n",
        "        ca_timesteps[t] = transition(ca_timesteps[t-1], rule)\n",
        "    return ca_timesteps\n",
        "\n",
        "\n",
        "def plot_ca(array, axes=None, title='', cmap='Blues', **options):\n",
        "    \"\"\"\n",
        "    Plot the 2D array as an image on the given axes  1's will be dark blue, 0's will be light blue.\n",
        "\n",
        "    :param axes: the axes to plot on, or None to use the `plt.gca()` (current axes)\n",
        "    :param options: keyword arguments passed directly to `plt.imshow()`\n",
        "           see https://matplotlib.org/stable/api/_as_gen/matplotlib.axes.Axes.imshow.html\n",
        "    \"\"\"\n",
        "    axes = axes or plt.gca()  # If not axes are provided, draw on current axes\n",
        "    axes.set(\n",
        "        title=title,\n",
        "        ylabel='Time Steps',\n",
        "    )\n",
        "    # Turn off axes labels and tick marks\n",
        "    axes.tick_params(axis='x', which='both', bottom=False, labelbottom=False)\n",
        "    # Defaults for displaying a \"matrix\" with hard-pixel boundaries and (0,0) at top-left\n",
        "    options = {**dict(interpolation='nearest', origin='upper'), **options}\n",
        "    axes.imshow(array, cmap=cmap, **options)\n",
        "\n",
        "rule_90 = get_lookup_table(90)\n",
        "ca_timesteps = simulate_ca(200, 100, rule_90)\n",
        "plot_ca(ca_timesteps, title=f'Rule 90')"
      ],
      "metadata": {
        "pycharm": {
          "name": "#%%\n"
        },
        "ExecuteTime": {
          "end_time": "2024-01-03T01:08:15.797057Z",
          "start_time": "2024-01-03T01:08:15.693838Z"
        },
        "id": "9WQ8pULGdfgC",
        "outputId": "2f21df6f-1fe8-48c4-a659-77b814f23be0",
        "colab": {
          "base_uri": "https://localhost:8080/",
          "height": 317
        }
      }
    },
    {
      "cell_type": "markdown",
      "source": [
        "## Exercise 1: Additional Start States\n",
        "In Wolfram's original experiments, he starts with a CA that is all zeros except the centre cell.\n",
        "This is reproduced by the `single_centre_array` function above.\n",
        "It would be interesting to experiment with other start states...\n",
        "\n",
        "Write 2 functions, each of which returns a 1-D `numpy.array` (vector) configured in a specific state:\n",
        "1. `from_string_array` takes a text string of 0's and 1's and returns a 1D array with matching integer values\n",
        "2. `random_array` takes a float $ p where 0 <= p <= 1 $ as input and returns a 1D array $a$, where probability $a[i] == 1$ is $p$\n",
        "\n",
        "*Tip*: both problems are most easily solved using list comprehensions!"
      ],
      "metadata": {
        "collapsed": false,
        "pycharm": {
          "name": "#%% md\n"
        },
        "id": "zC2TlefadfgE"
      }
    },
    {
      "cell_type": "code",
      "source": [
        "def from_string_array(str):\n",
        "  return [int(char) for char in str]\n",
        "\n",
        "print(from_string_array(\"1010110\"))"
      ],
      "metadata": {
        "id": "Bqr4gsTnm6VZ",
        "outputId": "b79d1c29-1091-447f-870e-4ad4161b187c",
        "colab": {
          "base_uri": "https://localhost:8080/"
        }
      },
      "execution_count": 3,
      "outputs": [
        {
          "output_type": "stream",
          "name": "stdout",
          "text": [
            "[1, 0, 1, 0, 1, 1, 0]\n"
          ]
        }
      ]
    },
    {
      "cell_type": "code",
      "source": [
        "import numpy as np\n",
        "\n",
        "def random_array(n,p):\n",
        "  return np.random.choice([0,1], size=n, p=[1-p, p])\n",
        "\n",
        "result= random_array(5,0.2)\n",
        "print(result)"
      ],
      "metadata": {
        "id": "S3yvwo67nZXg",
        "outputId": "84dc5dc7-ff75-4910-d51f-df6ba1a68dbd",
        "colab": {
          "base_uri": "https://localhost:8080/"
        }
      },
      "execution_count": 4,
      "outputs": [
        {
          "output_type": "stream",
          "name": "stdout",
          "text": [
            "[0 0 0 0 0]\n"
          ]
        }
      ]
    },
    {
      "cell_type": "markdown",
      "source": [
        "## Exercise 2: A Cell1D class\n",
        "Develop your own `Cell1D` class that uses the functions above to implement its fundamental operations.\n",
        "The `Cell1D` class from the textbook may provide some ideas, but you may find it more confusing than helpful.\n",
        "The goal here is to improve on the design of that class, so it might be better to just start over...\n",
        "\n",
        "* Initialize a `Cell1D` with a `rule` number and an array representing the CA `start_state`\n",
        "  *Tip*: initialize a 2-D array with just a single row to define the CA's data structure correctly.\n",
        "* Add a `simulate` method that takes the number of steps to simulate as input (note: my solution is just 4 lines of code)\n",
        "  *Tip*: you can reuse the algorithm from `simulate_ca` above.\n",
        "* Add a `step` method.  Unlike the textbook, our `step` method is just a convenience method - it just `simulate`s a single step.\n",
        "* Add a `draw` method.  Just call `plot_ca` to do the actual work.\n",
        "\n",
        "Note: this is *not* a `dataclass` - you will need an `__init__` method."
      ],
      "metadata": {
        "collapsed": false,
        "pycharm": {
          "name": "#%% md\n"
        },
        "id": "_7cRHSGvdfgE"
      }
    },
    {
      "cell_type": "code",
      "source": [
        "import numpy as np"
      ],
      "metadata": {
        "id": "ScSbknjlrX8A"
      },
      "execution_count": 5,
      "outputs": []
    },
    {
      "cell_type": "code",
      "source": [
        "class CellID:\n",
        "  def __init__(self, rule_number, start_state):\n",
        "    self.rule_number=rule_number"
      ],
      "metadata": {
        "id": "Tmbqk6Lvusd-"
      },
      "execution_count": 6,
      "outputs": []
    },
    {
      "cell_type": "code",
      "source": [
        "num_columns= 5\n",
        "\n",
        "array_2d= [0] * num_columns\n",
        "print(array_2d)"
      ],
      "metadata": {
        "id": "-ZDvX1v8wv6L",
        "outputId": "71e6da7c-5724-461d-a452-3e11e2f3616f",
        "colab": {
          "base_uri": "https://localhost:8080/"
        }
      },
      "execution_count": 7,
      "outputs": [
        {
          "output_type": "stream",
          "name": "stdout",
          "text": [
            "[0, 0, 0, 0, 0]\n"
          ]
        }
      ]
    },
    {
      "cell_type": "code",
      "source": [
        "# class Cell1D:\n",
        "#     def __init__(self, rule_number, start_state):\n",
        "#         self.rule_number = rule_number\n",
        "#         self.start_state = start_state\n",
        "#         self.rows = len(start_state)\n",
        "#         self.cols = len(start_state[0])\n",
        "\n",
        "\n",
        "\n",
        "# rule_number = 30\n",
        "# start_state = [[0, 0, 0, 0, 0, 0, 0, 1, 0, 0]]\n",
        "# ca = Cell1D(rule_number, start_state)\n"
      ],
      "metadata": {
        "id": "QX95254vRGA4"
      },
      "execution_count": 16,
      "outputs": []
    },
    {
      "cell_type": "code",
      "source": [
        "# def simulate_ca(n_cells, n_steps, rule):\n",
        "#     start_state = single_centre_array(n_cells)\n",
        "#     ca_timesteps = np.vstack([start_state, np.zeros((n_steps, len(start_state)), dtype=np.uint8)])\n",
        "#     for t in range(1, n_steps):\n",
        "#         ca_timesteps[t] = transition(ca_timesteps[t-1], rule)\n",
        "#     return ca_timesteps"
      ],
      "metadata": {
        "id": "WCmzkdkaRXHT"
      },
      "execution_count": 17,
      "outputs": []
    },
    {
      "cell_type": "code",
      "source": [
        "# class Cell1D:\n",
        "#     def __init__(self, rule_number, start_state):\n",
        "#         self.rule_number = rule_number\n",
        "#         self.start_state = start_state\n",
        "#         self.rows = len(start_state)\n",
        "#         self.cols = len(start_state[0])\n",
        "\n",
        "#     def step(self):\n",
        "#         next_state = []\n",
        "#         current_row = self.start_state[0]\n",
        "#         for j in range(self.cols):\n",
        "#             left = current_row[(j - 1) % self.cols]\n",
        "#             center = current_row[j]\n",
        "#             right = current_row[(j + 1) % self.cols]\n",
        "#             next_state.append(self.evolve_cell(left, center, right))\n",
        "#         self.start_state = [next_state]\n",
        "\n",
        "#     def evolve(self, steps):\n",
        "#         for _ in range(steps):\n",
        "#             self.step()\n",
        "\n",
        "#     def evolve_cell(self, left, center, right):\n",
        "#         # Your logic for determining the next state of a cell based on its neighbors and the rule number goes here\n",
        "#         pass\n",
        "\n",
        "# # Example usage\n",
        "# rule_number = 30\n",
        "# start_state = [[0, 0, 0, 0, 0, 0, 0, 1, 0, 0]]  # Example start state, 1 row\n",
        "# ca = Cell1D(rule_number, start_state)\n",
        "\n",
        "# # Perform a single step\n",
        "# ca.step()\n"
      ],
      "metadata": {
        "id": "kOXfprKVRr3U"
      },
      "execution_count": 19,
      "outputs": []
    },
    {
      "cell_type": "code",
      "execution_count": 30,
      "outputs": [
        {
          "output_type": "display_data",
          "data": {
            "text/plain": [
              "<Figure size 640x480 with 1 Axes>"
            ],
            "image/png": "[encoded data removed]"
          },
          "metadata": {}
        }
      ],
      "source": [
        "import matplotlib.pyplot as plt\n",
        "import numpy as np\n",
        "\n",
        "def plot_ca(array, title='', cmap='Blues', **options):\n",
        "    \"\"\"\n",
        "    Plot the 2D array as an image on the given axes. 1's will be dark blue, 0's will be light blue.\n",
        "\n",
        "    :param array: 2D array representing the cellular automaton state\n",
        "    :param title: Title of the plot\n",
        "    :param cmap: Colormap for plotting\n",
        "    :param options: Additional keyword arguments passed directly to `plt.imshow()`\n",
        "    \"\"\"\n",
        "    plt.title(title)\n",
        "    plt.imshow(array, cmap=cmap, **options)\n",
        "    plt.show()\n",
        "\n",
        "class Cell1D:\n",
        "    def __init__(self, rule_number, start_state):\n",
        "        self.rule_number = rule_number\n",
        "        self.start_state = start_state\n",
        "\n",
        "    def simulate(self, n_steps):\n",
        "        for _ in range(n_steps):\n",
        "            self.step()\n",
        "\n",
        "    def step(self):\n",
        "        next_state = []\n",
        "        current_row = self.start_state[0]\n",
        "        for j in range(len(current_row)):\n",
        "            left = current_row[(j - 1) % len(current_row)]\n",
        "            center = current_row[j]\n",
        "            right = current_row[(j + 1) % len(current_row)]\n",
        "            next_state.append(self.evolve_cell(left, center, right))\n",
        "        self.start_state = [next_state]\n",
        "\n",
        "    def draw(self):\n",
        "        # Convert start_state to a numerical array\n",
        "        numeric_array = np.array(self.start_state)\n",
        "        plot_ca(numeric_array, title='Cellular Automaton')\n",
        "\n",
        "    def evolve_cell(self, left, center, right):\n",
        "        # Placeholder implementation, replace with your own logic\n",
        "        return center  # No change in state\n",
        "\n",
        "# Example usage\n",
        "rule_number = 30\n",
        "start_state = [[0, 0, 0, 0, 0, 0, 0, 1, 0, 0]]  # Example start state, 1 row\n",
        "ca = Cell1D(rule_number, start_state)\n",
        "\n",
        "# Simulate for 100 steps\n",
        "ca.simulate(100)\n",
        "ca.draw()\n"
      ],
      "metadata": {
        "pycharm": {
          "name": "#%%\n"
        },
        "ExecuteTime": {
          "end_time": "2024-01-02T07:20:38.932395Z",
          "start_time": "2024-01-02T07:20:38.899938Z"
        },
        "id": "DM4TWggXdfgF",
        "colab": {
          "base_uri": "https://localhost:8080/",
          "height": 132
        },
        "outputId": "f41ed35c-7fd4-468c-fc48-83cdf255fb47"
      }
    },
    {
      "cell_type": "markdown",
      "source": [
        "## Run some Experiments\n",
        "With your new `Cell1D` class, run some experiments to explore the Elementary CA's.\n",
        "\n",
        "Wolfram identifies 4 \"classes\" of Elementary Cellular Automata:\n",
        "    a) rapidly converge to a uniform static state.\n",
        "    b) rapidly converge to a stable repeating pattern.\n",
        "    c) generate non-repeating, random states.\n",
        "    d) generate chaos, with areas of repetitive or stable states, but also structures that interact in complex ways.\n",
        "\n",
        "### Exercise 3\n",
        "\n",
        "1. It will be convenient to abstract the steps needed to construct, simulate, and draw a CA - develop a small `experiment` function to do so.\n",
        "\n",
        "2. Identify a rule that exemplifies each of the 4 CA classes.\n",
        "   Create a 2x2 grid of plots that shows an example simulation for each class of CA side-by-side.\n",
        "   You can simply re-purpose the example code below."
      ],
      "metadata": {
        "collapsed": false,
        "pycharm": {
          "name": "#%% md\n"
        },
        "id": "S8SOzXFsdfgF"
      }
    },
    {
      "cell_type": "code",
      "source": [
        "import matplotlib.pyplot as plt\n",
        "import numpy as np\n",
        "\n",
        "def axes_layout(nrows=1, ncols=1, fig_title=None, **kwargs):\n",
        "    \"\"\"Layout nrows x ncols axes with sensible defaults. kwargs passed directly to `plt.subplots()`\"\"\"\n",
        "    kwargs = {**dict(layout='tight'), **kwargs}\n",
        "    fig, axes = plt.subplots(nrows=nrows, ncols=ncols, **kwargs)\n",
        "    if fig_title:\n",
        "        fig.suptitle(fig_title)\n",
        "    return axes\n",
        "\n",
        "def plot_ca(array, ax=None, title='', cmap='Blues', **options):\n",
        "    \"\"\"\n",
        "    Plot the 2D array as an image on the given axes. 1's will be dark blue, 0's will be light blue.\n",
        "\n",
        "    :param array: 2D array representing the cellular automaton state\n",
        "    :param ax: Axes to plot on. If None, current axes will be used.\n",
        "    :param title: Title of the plot\n",
        "    :param cmap: Colormap for plotting\n",
        "    :param options: Additional keyword arguments passed directly to `ax.imshow()`\n",
        "    \"\"\"\n",
        "    ax.set_title(title)\n",
        "    ax.imshow(array, cmap=cmap, **options)\n",
        "    ax.axis('off')\n",
        "\n",
        "class Cell1D:\n",
        "    def __init__(self, rule_number, start_state):\n",
        "        self.rule_number = rule_number\n",
        "        self.start_state = start_state\n",
        "\n",
        "    def simulate(self, n_steps):\n",
        "        for _ in range(n_steps):\n",
        "            self.step()\n",
        "\n",
        "    def step(self):\n",
        "        next_state = []\n",
        "        current_row = self.start_state[0]\n",
        "        for j in range(len(current_row)):\n",
        "            left = current_row[(j - 1) % len(current_row)]\n",
        "            center = current_row[j]\n",
        "            right = current_row[(j + 1) % len(current_row)]\n",
        "            next_state.append(self.evolve_cell(left, center, right))\n",
        "        self.start_state = [next_state]\n",
        "\n",
        "    def evolve_cell(self, left, center, right):\n",
        "        # Replace this with the specific rule logic for the cellular automaton\n",
        "        return (left ^ center ^ right)  # Example rule (XOR)\n",
        "\n",
        "def experiment(rule_number, start_state, n_steps):\n",
        "    ca = Cell1D(rule_number, start_state)\n",
        "    ca.simulate(n_steps)\n",
        "    return ca.start_state\n",
        "\n",
        "# Example usage to generate a 2x2 grid of plots\n",
        "rules = [0, 18, 30, 110]\n",
        "n_steps = 100\n",
        "\n",
        "fig_title = 'Sample Plot of 2 x 2 grid of images'\n",
        "axes = axes_layout(2, 2, fig_title=fig_title)\n",
        "\n",
        "for rule, ax, title in zip(rules, axes.flat, ('Rapidly converge to uniform state', 'Rapidly converge to repeating pattern', 'Generate random states', 'Generate chaotic states')):\n",
        "    start_state = np.random.randint(2, size=(1, 100))  # Random initial state\n",
        "    simulated_state = experiment(rule, start_state, n_steps)\n",
        "    plot_ca(np.array(simulated_state), ax=ax, title=title)\n",
        "\n",
        "plt.tight_layout()\n",
        "plt.show()\n"
      ],
      "metadata": {
        "colab": {
          "base_uri": "https://localhost:8080/",
          "height": 357
        },
        "id": "CDzyZ5bBUGdK",
        "outputId": "c3142b9d-98e8-4524-d7b4-60372226e9b4"
      },
      "execution_count": 34,
      "outputs": [
        {
          "output_type": "display_data",
          "data": {
            "text/plain": [
              "<Figure size 640x480 with 4 Axes>"
            ],
            "image/png": "[encoded data removed]"
          },
          "metadata": {}
        }
      ]
    },
    {
      "cell_type": "code",
      "source": [
        "import matplotlib.pyplot as plt\n",
        "import numpy as np\n",
        "\n",
        "def axes_layout(nrows=1, ncols=1, fig_title=None, **kwargs):\n",
        "    \"\"\"Layout nrows x ncols axes with sensible defaults. kwargs passed directly to `plt.subplots()`\"\"\"\n",
        "    kwargs = {**dict(layout='tight'), **kwargs}\n",
        "    fig, axes = plt.subplots(nrows=nrows, ncols=ncols, **kwargs)\n",
        "    if fig_title:\n",
        "        fig.suptitle(fig_title)\n",
        "    return axes\n",
        "\n",
        "def plot_ca(array, ax=None, title='', cmap='Blues', **options):\n",
        "    \"\"\"\n",
        "    Plot the 2D array as an image on the given axes. 1's will be dark blue, 0's will be light blue.\n",
        "\n",
        "    :param array: 2D array representing the cellular automaton state\n",
        "    :param ax: Axes object to plot on, if None, current axes will be used\n",
        "    :param title: Title of the plot\n",
        "    :param cmap: Colormap for plotting\n",
        "    :param options: Additional keyword arguments passed directly to `plt.imshow()`\n",
        "    \"\"\"\n",
        "    ax = ax or plt.gca()\n",
        "    ax.set_title(title)\n",
        "    ax.imshow(array, cmap=cmap, **options)\n",
        "    ax.axis('off')\n",
        "\n",
        "class Cell1D:\n",
        "    def __init__(self, rule_number, start_state):\n",
        "        self.rule_number = rule_number\n",
        "        self.start_state = start_state\n",
        "\n",
        "    def simulate(self, n_steps):\n",
        "        for _ in range(n_steps):\n",
        "            self.step()\n",
        "\n",
        "    def step(self):\n",
        "        next_state = []\n",
        "        current_row = self.start_state[0]\n",
        "        for j in range(len(current_row)):\n",
        "            left = current_row[(j - 1) % len(current_row)]\n",
        "            center = current_row[j]\n",
        "            right = current_row[(j + 1) % len(current_row)]\n",
        "            next_state.append(self.evolve_cell(left, center, right))\n",
        "        self.start_state = [next_state]\n",
        "\n",
        "    def draw(self, ax=None):\n",
        "        # Convert start_state to a numerical array\n",
        "        numeric_array = np.array(self.start_state)\n",
        "        plot_ca(numeric_array, ax=ax, title='Cellular Automaton')\n",
        "\n",
        "    def evolve_cell(self, left, center, right):\n",
        "        # Apply the rule for the cellular automaton\n",
        "        # This function will be different for each rule\n",
        "        if self.rule_number == 0:\n",
        "            return 0  # Uniform static state\n",
        "        elif self.rule_number == 18:\n",
        "            return left ^ right  # Stable repeating pattern\n",
        "        elif self.rule_number == 30:\n",
        "            return left ^ center ^ right  # Non-repeating, random states\n",
        "        elif self.rule_number == 110:\n",
        "            return left ^ (~center & right)  # Chaos, complex structures\n",
        "\n",
        "# Define rules for each class\n",
        "rules = {\n",
        "    'a': 0,\n",
        "    'b': 18,\n",
        "    'c': 30,\n",
        "    'd': 110\n",
        "}\n",
        "\n",
        "# Simulate each rule and plot results\n",
        "fig_title = '2x2 Grid of Cellular Automata'\n",
        "axes = axes_layout(2, 2, fig_title=fig_title)\n",
        "for ax, (cls, rule) in zip(axes.flat, rules.items()):\n",
        "    start_state = np.random.randint(2, size=(1, 100))  # Random initial state\n",
        "    ca = Cell1D(rule, start_state)\n",
        "    ca.simulate(100)\n",
        "    numeric_array = np.array(ca.start_state)\n",
        "    plot_ca(numeric_array, ax=ax, title=f'Rule {rule} (Class {cls.upper()})')\n",
        "\n",
        "plt.tight_layout()\n",
        "plt.show()\n"
      ],
      "metadata": {
        "colab": {
          "base_uri": "https://localhost:8080/",
          "height": 357
        },
        "id": "-RzaTI32eRKx",
        "outputId": "c5212e76-0d72-4867-cdf1-6782077a7ac2"
      },
      "execution_count": 39,
      "outputs": [
        {
          "output_type": "display_data",
          "data": {
            "text/plain": [
              "<Figure size 640x480 with 4 Axes>"
            ],
            "image/png": "[encoded data removed]"
          },
          "metadata": {}
        }
      ]
    },
    {
      "cell_type": "code",
      "source": [
        "# def run_experiment(rule_num, start_state, steps):\n",
        "#     cell = Cell1D(rule_num, start_state)\n",
        "#     cell.draw(steps)\n",
        "\n",
        "# def display_experiment(rule_nums, start_states, steps):\n",
        "#     num_classes = len(rule_nums)\n",
        "#     fig, axes = plt.subplots(2, 2, figsize=(12, 8))\n",
        "#     for i in range(num_classes):\n",
        "#         row = i // 2\n",
        "#         col = i % 2\n",
        "#         ax = axes[row, col]\n",
        "#         rule_num = rule_nums[i]\n",
        "#         start_state = start_states[i]\n",
        "#         cell = Cell1D(rule_num, start_state)\n",
        "#         states = list(cell.simulate(steps))\n",
        "#         ax.imshow(states, cmap='binary', interpolation='nearest')\n",
        "#         ax.set_title(f\"Rule {rule_num}\")\n",
        "#         ax.axis('off')\n",
        "#     plt.tight_layout()\n",
        "#     plt.show()\n",
        "\n",
        "# # Rules exemplifying each class:\n",
        "# class_rules = {\n",
        "#     'a': 30,  # Rapidly converge to a uniform static state\n",
        "#     'b': 18,  # Rapidly converge to a stable repeating pattern\n",
        "#     'c': 22,  # Generate non-repeating, random states\n",
        "#     'd': 110, # Generate chaos, with areas of repetitive or stable states, but also structures that interact in complex ways\n",
        "# }\n",
        "\n",
        "# # Start states for each class\n",
        "# start_states = {\n",
        "#     'a': [0] * 51,\n",
        "#     'b': [0] * 51,\n",
        "#     'c': [0] * 51,\n",
        "#     'd': [0] * 51,\n",
        "# }\n",
        "\n",
        "# # Setting a single cell as 'on' to start for classes a and b\n",
        "# start_states['a'][25] = 1\n",
        "# start_states['b'][25] = 1\n",
        "\n",
        "# # Random start state for class c\n",
        "# start_states['c'] = np.random.randint(0, 2, 51)\n",
        "\n",
        "# # Start state with a single 'on' cell for class d\n",
        "# start_states['d'][25] = 1\n",
        "\n",
        "# # Number of steps to simulate\n",
        "# steps = 50\n",
        "\n",
        "# # Run experiment for each class\n",
        "# display_experiment([class_rules[class_] for class_ in 'abcd'], [start_states[class_]for class_ in 'abcd'], steps)"
      ],
      "metadata": {
        "id": "J-j8xpKlbH8U"
      },
      "execution_count": 37,
      "outputs": []
    },
    {
      "cell_type": "code",
      "execution_count": 11,
      "outputs": [],
      "source": [
        "# Solution for Ex. 3 here..."
      ],
      "metadata": {
        "pycharm": {
          "name": "#%%\n"
        },
        "ExecuteTime": {
          "end_time": "2024-01-02T07:20:38.932659Z",
          "start_time": "2024-01-02T07:20:38.909421Z"
        },
        "id": "sZL3-NctdfgG"
      }
    },
    {
      "cell_type": "markdown",
      "source": [
        "#### Sample code for creating a 2x2 grid of plots"
      ],
      "metadata": {
        "collapsed": false,
        "pycharm": {
          "name": "#%% md\n"
        },
        "id": "wnsX71xwdfgG"
      }
    },
    {
      "cell_type": "code",
      "execution_count": 12,
      "outputs": [
        {
          "output_type": "display_data",
          "data": {
            "text/plain": [
              "<Figure size 640x480 with 4 Axes>"
            ],
            "image/png": "[encoded data removed]"
          },
          "metadata": {}
        }
      ],
      "source": [
        "def axes_layout(nrows=1, ncols=1, fig_title=None, **kwargs):\n",
        "    \"\"\" layout nrows x ncols axes with sensible defaults.  kwargs passed directly to `plt.subplots()`\"\"\"\n",
        "    kwargs = {**dict(layout='tight'), **kwargs}\n",
        "    fig, axes = plt.subplots(nrows=nrows, ncols=ncols, **kwargs)\n",
        "    if fig_title:\n",
        "        fig.suptitle(fig_title)\n",
        "    return axes\n",
        "\n",
        "# Example: plot 4 plots in a 2x2 grid - plots are labelled so it's clear which is which.\n",
        "axes = axes_layout(2, 2, fig_title='Sample Plot of 2 x 2 grid of images')\n",
        "for ax, title in zip(axes.flat, ('top-left', 'top-right', 'bottom-left', 'bottom-right' )):\n",
        "    plot_ca(ca_timesteps, axes=ax, title=f'This is plot {title}')"
      ],
      "metadata": {
        "pycharm": {
          "name": "#%%\n"
        },
        "ExecuteTime": {
          "end_time": "2024-01-02T07:20:39.309417Z",
          "start_time": "2024-01-02T07:20:38.915516Z"
        },
        "id": "MQDU2aYgdfgG",
        "outputId": "037cc9cf-bc58-4908-e537-156e92e013f1",
        "colab": {
          "base_uri": "https://localhost:8080/",
          "height": 445
        }
      }
    },
    {
      "cell_type": "markdown",
      "source": [
        "## Exercise 4:  Thought Experiments\n",
        "Think about some of the questions that arise from this experiment.  Provide some concise answer that capture you thinking...\n",
        "1. What is it about these experiments that requires computation?\n",
        "Is there some other means by which we could conduct experiments like this?\n",
        "\n",
        "2. What conclusions can you draw about the conditions under which complex behaviours can arise?\n",
        "Do you think these conclusions are mostly intuitive or counter-intuitive?\n",
        "\n",
        "3. What lessons might we take about studying complex phenomena in the real world from our study of elementary cellular automata?"
      ],
      "metadata": {
        "collapsed": false,
        "pycharm": {
          "name": "#%% md\n"
        },
        "id": "ZPhudif-dfgH"
      }
    },
    {
      "cell_type": "markdown",
      "source": [
        "### Answers\n",
        "(concise, point-form -- there are no wrong answers, I'd just like to hear what you think)\n",
        "1. recognizing the importane of the algorithm and computing how difference of this algorithm will effect the final outcome if there is a problem with the implementation that cause wrong order of operation.\n",
        "\n",
        "2. Once again, this whole chapter is about algorithm and what really should matter is the order that returns the accurate output so what really make these complex is to use the right input. I also personally think that these are a bit counter-intuitive.\n",
        "\n",
        "3. Studying elementary cellular automa talks about the potential for complex behaviors to learn from simple rules and initial conditions and to undertsand the importance system dynamics for studying complex phenomena in both artifical and natural system."
      ],
      "metadata": {
        "collapsed": false,
        "pycharm": {
          "name": "#%% md\n"
        },
        "id": "2paL_UEkdfgH"
      }
    }
  ],
  "metadata": {
    "kernelspec": {
      "display_name": "Python 3",
      "language": "python",
      "name": "python3"
    },
    "language_info": {
      "codemirror_mode": {
        "name": "ipython",
        "version": 2
      },
      "file_extension": ".py",
      "mimetype": "text/x-python",
      "name": "python",
      "nbconvert_exporter": "python",
      "pygments_lexer": "ipython2",
      "version": "2.7.6"
    },
    "colab": {
      "provenance": [],
      "include_colab_link": true
    }
  },
  "nbformat": 4,
  "nbformat_minor": 0
}